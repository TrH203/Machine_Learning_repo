{
 "cells": [
  {
   "cell_type": "code",
   "execution_count": 15,
   "metadata": {},
   "outputs": [],
   "source": [
    "# k-mean clustering implement (no library)"
   ]
  },
  {
   "cell_type": "code",
   "execution_count": 16,
   "metadata": {},
   "outputs": [],
   "source": [
    "import pandas as pd\n",
    "import numpy as np\n",
    "import math\n"
   ]
  },
  {
   "cell_type": "markdown",
   "metadata": {},
   "source": [
    "**# k-mean clustering implement (no library)**"
   ]
  },
  {
   "cell_type": "code",
   "execution_count": 17,
   "metadata": {},
   "outputs": [],
   "source": [
    "#load data\n",
    "df = pd.read_csv(\"clustering.csv\").values\n",
    "df = df[:,:2]\n",
    "\n",
    "y = df[:,-1]"
   ]
  },
  {
   "cell_type": "code",
   "execution_count": 18,
   "metadata": {},
   "outputs": [],
   "source": [
    "def cal_dis(a: np.ndarray, b: np.ndarray):\n",
    "    dis = math.sqrt(np.sum((a - b)**2))\n",
    "    #print(np.array(dis))\n",
    "    return np.array([dis])"
   ]
  },
  {
   "cell_type": "code",
   "execution_count": 19,
   "metadata": {},
   "outputs": [
    {
     "data": {
      "text/plain": [
       "array([[6. , 7. ],\n",
       "       [3. , 8. ],\n",
       "       [6.2, 6.8],\n",
       "       [3.9, 2. ]])"
      ]
     },
     "execution_count": 19,
     "metadata": {},
     "output_type": "execute_result"
    }
   ],
   "source": [
    "n = 4\n",
    "centroid = df[np.random.choice(df.shape[0],n,replace=False)]\n",
    "centroid"
   ]
  },
  {
   "cell_type": "code",
   "execution_count": 20,
   "metadata": {},
   "outputs": [
    {
     "data": {
      "text/plain": [
       "array([[2. , 4. ],\n",
       "       [2.2, 3.8],\n",
       "       [3.5, 2.5],\n",
       "       [3.9, 2. ],\n",
       "       [4. , 2.5],\n",
       "       [6. , 7. ],\n",
       "       [6.2, 6.8],\n",
       "       [6.5, 7.5],\n",
       "       [7. , 6. ],\n",
       "       [7.5, 6.5],\n",
       "       [7.2, 7. ],\n",
       "       [9. , 1. ],\n",
       "       [8.5, 1.2],\n",
       "       [9.2, 0.8],\n",
       "       [3. , 8. ],\n",
       "       [3.5, 8.5],\n",
       "       [3.8, 8.2],\n",
       "       [4. , 9. ],\n",
       "       [4.5, 9.5],\n",
       "       [4.2, 9.8],\n",
       "       [1. , 1. ],\n",
       "       [1.2, 1.2],\n",
       "       [0.8, 0.8]])"
      ]
     },
     "execution_count": 20,
     "metadata": {},
     "output_type": "execute_result"
    }
   ],
   "source": [
    "data = np.copy(df)\n",
    "data"
   ]
  },
  {
   "cell_type": "code",
   "execution_count": 21,
   "metadata": {},
   "outputs": [],
   "source": [
    "def find_min(data):\n",
    "    return np.min(data)\n",
    "        "
   ]
  },
  {
   "cell_type": "code",
   "execution_count": 22,
   "metadata": {},
   "outputs": [
    {
     "data": {
      "text/plain": [
       "array([[5.        , 4.12310563, 5.04777179, 2.75862284],\n",
       "       [4.96789694, 4.27551167, 5.        , 2.47588368],\n",
       "       [5.14781507, 5.52268051, 5.07740091, 0.64031242],\n",
       "       [5.42309875, 6.06712452, 5.32259335, 0.        ],\n",
       "       [4.9244289 , 5.59016994, 4.83011387, 0.50990195],\n",
       "       [0.        , 3.16227766, 0.28284271, 5.42309875],\n",
       "       [0.28284271, 3.4176015 , 0.        , 5.32259335],\n",
       "       [0.70710678, 3.53553391, 0.76157731, 6.08358447],\n",
       "       [1.41421356, 4.47213595, 1.13137085, 5.06063237],\n",
       "       [1.58113883, 4.74341649, 1.33416641, 5.76281181],\n",
       "       [1.2       , 4.31740663, 1.0198039 , 5.99082632],\n",
       "       [6.70820393, 9.21954446, 6.44049688, 5.19711458],\n",
       "       [6.31585307, 8.74585616, 6.05392435, 4.66904701],\n",
       "       [6.97710542, 9.50157882, 6.70820393, 5.43415127],\n",
       "       [3.16227766, 0.        , 3.4176015 , 6.06712452],\n",
       "       [2.91547595, 0.70710678, 3.19061123, 6.51229606],\n",
       "       [2.50599282, 0.82462113, 2.7784888 , 6.2008064 ],\n",
       "       [2.82842712, 1.41421356, 3.11126984, 7.00071425],\n",
       "       [2.91547595, 2.12132034, 3.19061123, 7.52396172],\n",
       "       [3.3286634 , 2.16333077, 3.60555128, 7.8057671 ],\n",
       "       [7.81024968, 7.28010989, 7.78973684, 3.06757233],\n",
       "       [7.52861209, 7.03420216, 7.50732975, 2.81602557],\n",
       "       [8.09197133, 7.52861209, 8.07217443, 3.32415403]])"
      ]
     },
     "execution_count": 22,
     "metadata": {},
     "output_type": "execute_result"
    }
   ],
   "source": [
    "rs = []\n",
    "data = np.copy(df)\n",
    "for i in centroid:\n",
    "    tmp = []\n",
    "    for j in data:\n",
    "        tmp.append(cal_dis(j[:2],i))\n",
    "    tmp = np.array(tmp)\n",
    "    data = np.hstack((data,tmp.reshape((data.shape[0],1))))\n",
    "\n",
    "\n",
    "kc = data[:,2:]\n",
    "kc"
   ]
  },
  {
   "cell_type": "code",
   "execution_count": 23,
   "metadata": {},
   "outputs": [
    {
     "name": "stdout",
     "output_type": "stream",
     "text": [
      "[[0. 0. 0. 1.]\n",
      " [0. 0. 0. 1.]\n",
      " [0. 0. 0. 1.]\n",
      " [0. 0. 0. 1.]\n",
      " [0. 0. 0. 1.]\n",
      " [1. 0. 1. 0.]\n",
      " [1. 0. 1. 0.]\n",
      " [1. 0. 1. 0.]\n",
      " [1. 0. 1. 0.]\n",
      " [1. 0. 1. 0.]\n",
      " [1. 0. 1. 0.]\n",
      " [1. 0. 1. 1.]\n",
      " [1. 0. 1. 1.]\n",
      " [1. 0. 1. 1.]\n",
      " [0. 1. 0. 0.]\n",
      " [1. 1. 1. 0.]\n",
      " [1. 1. 1. 0.]\n",
      " [1. 1. 1. 0.]\n",
      " [1. 1. 1. 0.]\n",
      " [1. 1. 1. 0.]\n",
      " [0. 0. 0. 1.]\n",
      " [0. 0. 0. 1.]\n",
      " [0. 0. 0. 1.]]\n"
     ]
    }
   ],
   "source": [
    "X = np.copy(kc)\n",
    "\n",
    "# Find the minimum and maximum values in each row\n",
    "min_values = np.min(X, axis=1, keepdims=True)\n",
    "\n",
    "\n",
    "# print(\"Min:\",min_values)\n",
    "# print(\"Max:\",max_values)\n",
    "# Calculate the range for each row\n",
    "range_values = max_values - min_values\n",
    "#print(\"Range value\",range_values)\n",
    "# Normalize the values\n",
    "normalized_values = 1 - (X - min_values) / range_values\n",
    "#print(\"Normalized_Value\",normalized_values)\n",
    "# Round the normalized values to the nearest integer (0 or 1)\n",
    "one_hot_encoded = np.round(normalized_values)\n",
    "print(one_hot_encoded)\n",
    "\n",
    "# print(\"One hot encoded\",one_hot_encoded)\n"
   ]
  },
  {
   "cell_type": "code",
   "execution_count": 24,
   "metadata": {},
   "outputs": [],
   "source": [
    "def cal(a,y):\n",
    "    b = np.copy(y)\n",
    "    for i in range(len(a)):\n",
    "        b[i] = a[i]*b[i]\n",
    "        \n",
    "    return b\n",
    "\n",
    "def count(m):\n",
    "    c=0\n",
    "    aa = np.zeros(m.shape[1])\n",
    "    for i in m:\n",
    "        if np.sum(i) != 0:\n",
    "            c += 1\n",
    "            for j in range(len(i)):\n",
    "                if i[j] != 0:\n",
    "                    aa[j] += i[j]\n",
    "    return aa/c\n",
    "    "
   ]
  },
  {
   "cell_type": "code",
   "execution_count": 25,
   "metadata": {},
   "outputs": [
    {
     "data": {
      "text/plain": [
       "array([[2. , 4. ],\n",
       "       [2.2, 3.8],\n",
       "       [3.5, 2.5],\n",
       "       [3.9, 2. ],\n",
       "       [4. , 2.5],\n",
       "       [6. , 7. ],\n",
       "       [6.2, 6.8],\n",
       "       [6.5, 7.5],\n",
       "       [7. , 6. ],\n",
       "       [7.5, 6.5],\n",
       "       [7.2, 7. ],\n",
       "       [9. , 1. ],\n",
       "       [8.5, 1.2],\n",
       "       [9.2, 0.8],\n",
       "       [3. , 8. ],\n",
       "       [3.5, 8.5],\n",
       "       [3.8, 8.2],\n",
       "       [4. , 9. ],\n",
       "       [4.5, 9.5],\n",
       "       [4.2, 9.8],\n",
       "       [1. , 1. ],\n",
       "       [1.2, 1.2],\n",
       "       [0.8, 0.8]])"
      ]
     },
     "execution_count": 25,
     "metadata": {},
     "output_type": "execute_result"
    }
   ],
   "source": [
    "data = np.copy(df)\n",
    "data"
   ]
  },
  {
   "cell_type": "code",
   "execution_count": 26,
   "metadata": {},
   "outputs": [
    {
     "data": {
      "text/plain": [
       "[array([[0. , 0. ],\n",
       "        [0. , 0. ],\n",
       "        [0. , 0. ],\n",
       "        [0. , 0. ],\n",
       "        [0. , 0. ],\n",
       "        [6. , 7. ],\n",
       "        [6.2, 6.8],\n",
       "        [6.5, 7.5],\n",
       "        [7. , 6. ],\n",
       "        [7.5, 6.5],\n",
       "        [7.2, 7. ],\n",
       "        [9. , 1. ],\n",
       "        [8.5, 1.2],\n",
       "        [9.2, 0.8],\n",
       "        [0. , 0. ],\n",
       "        [3.5, 8.5],\n",
       "        [3.8, 8.2],\n",
       "        [4. , 9. ],\n",
       "        [4.5, 9.5],\n",
       "        [4.2, 9.8],\n",
       "        [0. , 0. ],\n",
       "        [0. , 0. ],\n",
       "        [0. , 0. ]]),\n",
       " array([[0. , 0. ],\n",
       "        [0. , 0. ],\n",
       "        [0. , 0. ],\n",
       "        [0. , 0. ],\n",
       "        [0. , 0. ],\n",
       "        [0. , 0. ],\n",
       "        [0. , 0. ],\n",
       "        [0. , 0. ],\n",
       "        [0. , 0. ],\n",
       "        [0. , 0. ],\n",
       "        [0. , 0. ],\n",
       "        [0. , 0. ],\n",
       "        [0. , 0. ],\n",
       "        [0. , 0. ],\n",
       "        [3. , 8. ],\n",
       "        [3.5, 8.5],\n",
       "        [3.8, 8.2],\n",
       "        [4. , 9. ],\n",
       "        [4.5, 9.5],\n",
       "        [4.2, 9.8],\n",
       "        [0. , 0. ],\n",
       "        [0. , 0. ],\n",
       "        [0. , 0. ]]),\n",
       " array([[0. , 0. ],\n",
       "        [0. , 0. ],\n",
       "        [0. , 0. ],\n",
       "        [0. , 0. ],\n",
       "        [0. , 0. ],\n",
       "        [6. , 7. ],\n",
       "        [6.2, 6.8],\n",
       "        [6.5, 7.5],\n",
       "        [7. , 6. ],\n",
       "        [7.5, 6.5],\n",
       "        [7.2, 7. ],\n",
       "        [9. , 1. ],\n",
       "        [8.5, 1.2],\n",
       "        [9.2, 0.8],\n",
       "        [0. , 0. ],\n",
       "        [3.5, 8.5],\n",
       "        [3.8, 8.2],\n",
       "        [4. , 9. ],\n",
       "        [4.5, 9.5],\n",
       "        [4.2, 9.8],\n",
       "        [0. , 0. ],\n",
       "        [0. , 0. ],\n",
       "        [0. , 0. ]]),\n",
       " array([[2. , 4. ],\n",
       "        [2.2, 3.8],\n",
       "        [3.5, 2.5],\n",
       "        [3.9, 2. ],\n",
       "        [4. , 2.5],\n",
       "        [0. , 0. ],\n",
       "        [0. , 0. ],\n",
       "        [0. , 0. ],\n",
       "        [0. , 0. ],\n",
       "        [0. , 0. ],\n",
       "        [0. , 0. ],\n",
       "        [9. , 1. ],\n",
       "        [8.5, 1.2],\n",
       "        [9.2, 0.8],\n",
       "        [0. , 0. ],\n",
       "        [0. , 0. ],\n",
       "        [0. , 0. ],\n",
       "        [0. , 0. ],\n",
       "        [0. , 0. ],\n",
       "        [0. , 0. ],\n",
       "        [1. , 1. ],\n",
       "        [1.2, 1.2],\n",
       "        [0.8, 0.8]])]"
      ]
     },
     "execution_count": 26,
     "metadata": {},
     "output_type": "execute_result"
    }
   ],
   "source": [
    "ds = []\n",
    "for i in range(one_hot_encoded.shape[1]):\n",
    "    ds.append(cal(one_hot_encoded[:,i], data))\n",
    "    \n",
    "ds"
   ]
  },
  {
   "cell_type": "code",
   "execution_count": 27,
   "metadata": {},
   "outputs": [
    {
     "data": {
      "text/plain": [
       "array([[6.22142857, 6.34285714],\n",
       "       [3.83333333, 8.83333333],\n",
       "       [6.22142857, 6.34285714],\n",
       "       [4.11818182, 1.89090909]])"
      ]
     },
     "execution_count": 27,
     "metadata": {},
     "output_type": "execute_result"
    }
   ],
   "source": [
    "for i in range(len(ds)):\n",
    "    centroid[i] = count(ds[i])\n",
    "    \n",
    "centroid"
   ]
  },
  {
   "cell_type": "code",
   "execution_count": 28,
   "metadata": {},
   "outputs": [
    {
     "name": "stdout",
     "output_type": "stream",
     "text": [
      "[[6.00666667 6.45333333]\n",
      " [4.4375     8.4375    ]\n",
      " [6.00666667 6.45333333]\n",
      " [4.11818182 1.89090909]]\n"
     ]
    }
   ],
   "source": [
    "import time\n",
    "for i in range(1):\n",
    "    rs = []\n",
    "    data = np.copy(df)\n",
    "    for i in centroid:\n",
    "        tmp = []\n",
    "        for j in data:\n",
    "            tmp.append(cal_dis(j[:2],i))\n",
    "        tmp = np.array(tmp)\n",
    "        data = np.hstack((data,tmp.reshape((data.shape[0],1))))\n",
    "\n",
    "\n",
    "    kc = data[:,2:]\n",
    "    X = np.copy(kc)\n",
    "\n",
    "    # Find the minimum and maximum values in each row\n",
    "    min_values = np.min(X, axis=1, keepdims=True)\n",
    "    max_values = np.max(X, axis=1, keepdims=True)\n",
    "\n",
    "    # print(\"Min:\",min_values)\n",
    "    # print(\"Max:\",max_values)\n",
    "    # Calculate the range for each row\n",
    "    range_values = max_values - min_values\n",
    "    #print(\"Range value\",range_values)\n",
    "    # Normalize the values\n",
    "    normalized_values = 1 - (X - min_values) / range_values\n",
    "    #print(\"Normalized_Value\",normalized_values)\n",
    "    # Round the normalized values to the nearest integer (0 or 1)\n",
    "    one_hot_encoded = np.round(normalized_values)\n",
    "    data = np.copy(df)\n",
    "    ds = []\n",
    "    for i in range(one_hot_encoded.shape[1]):\n",
    "        ds.append(cal(one_hot_encoded[:,i], data))\n",
    "    #print(ds)  \n",
    "    for i in range(len(ds)):\n",
    "        centroid[i] = count(ds[i])\n",
    "    time.sleep(1)  \n",
    "\n",
    "    print(centroid)\n",
    "\n"
   ]
  },
  {
   "cell_type": "code",
   "execution_count": 29,
   "metadata": {},
   "outputs": [
    {
     "data": {
      "text/plain": [
       "<matplotlib.collections.PathCollection at 0x136b0f3d0>"
      ]
     },
     "execution_count": 29,
     "metadata": {},
     "output_type": "execute_result"
    },
    {
     "data": {
      "image/png": "[encoded data removed]",
      "text/plain": [
       "<Figure size 640x480 with 1 Axes>"
      ]
     },
     "metadata": {},
     "output_type": "display_data"
    }
   ],
   "source": [
    "import matplotlib.pyplot as plt\n",
    "\n",
    "plt.figure()\n",
    "\n",
    "plt.scatter(x=df[:,0],y=df[:,1])\n",
    "plt.scatter(x=centroid[0,0],y=centroid[0,1],c=\"r\")\n",
    "plt.scatter(x=centroid[1,0],y=centroid[1,1],c=\"b\")\n",
    "plt.scatter(x=centroid[2,0],y=centroid[2,1],c=\"g\")\n",
    "plt.scatter(x=centroid[3,0],y=centroid[3,1],c=\"y\")"
   ]
  }
 ],
 "metadata": {
  "kernelspec": {
   "display_name": "Python 3",
   "language": "python",
   "name": "python3"
  },
  "language_info": {
   "codemirror_mode": {
    "name": "ipython",
    "version": 3
   },
   "file_extension": ".py",
   "mimetype": "text/x-python",
   "name": "python",
   "nbconvert_exporter": "python",
   "pygments_lexer": "ipython3",
   "version": "3.10.12"
  },
  "orig_nbformat": 4
 },
 "nbformat": 4,
 "nbformat_minor": 2
}
