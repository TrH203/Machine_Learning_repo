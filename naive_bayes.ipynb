{
 "cells": [
  {
   "cell_type": "code",
   "execution_count": 414,
   "metadata": {},
   "outputs": [],
   "source": [
    "import pandas as pd\n",
    "import numpy as np\n"
   ]
  },
  {
   "cell_type": "code",
   "execution_count": 415,
   "metadata": {},
   "outputs": [
    {
     "data": {
      "text/plain": [
       "array([['Nang', 'Nóng', 'Cao', 'Yeu', 'Không'],\n",
       "       ['Nang', 'Nóng', 'Cao', 'Manh', 'Không'],\n",
       "       ['NhieuMay', 'Nóng', 'Cao', 'Yeu', 'Có'],\n",
       "       ['Mua', 'Mát', 'Cao', 'Yeu', 'Có'],\n",
       "       ['Mua', 'Lanh', 'Thuong', 'Yeu', 'Có'],\n",
       "       ['Mua', 'Lanh', 'Thuong', 'Manh', 'Không'],\n",
       "       ['NhieuMay', 'Lanh', 'Thuong', 'Manh', 'Có'],\n",
       "       ['Nang', 'Mát', 'Cao', 'Yeu', 'Không'],\n",
       "       ['Nang', 'Lanh', 'Thuong', 'Yeu', 'Có'],\n",
       "       ['Mua', 'Lanh', 'Thuong', 'Yeu', 'Có'],\n",
       "       ['Mua', 'Mát', 'Thuong', 'Manh', 'Có'],\n",
       "       ['NhieuMay', 'Mát', 'Cao', 'Manh', 'Có'],\n",
       "       ['NhieuMay', 'Nóng', 'Thuong', 'Yeu', 'Có'],\n",
       "       ['Mua', 'Mát', 'Cao', 'Manh', 'Không']], dtype=object)"
      ]
     },
     "execution_count": 415,
     "metadata": {},
     "output_type": "execute_result"
    }
   ],
   "source": [
    "df = pd.read_csv(\"weather.csv\",encoding=\"latin1\").values\n",
    "df"
   ]
  },
  {
   "cell_type": "code",
   "execution_count": 416,
   "metadata": {},
   "outputs": [
    {
     "data": {
      "text/plain": [
       "(array(['Có', 'Không'], dtype=object), array([0.64285714, 0.35714286]))"
      ]
     },
     "execution_count": 416,
     "metadata": {},
     "output_type": "execute_result"
    }
   ],
   "source": [
    "_class, count = np.unique(df[:,-1],return_counts=True)\n",
    "prior = count / np.sum(count)\n",
    "_class, prior"
   ]
  },
  {
   "cell_type": "code",
   "execution_count": 417,
   "metadata": {},
   "outputs": [
    {
     "data": {
      "text/plain": [
       "array([0.55555556, 0.33333333])"
      ]
     },
     "execution_count": 417,
     "metadata": {},
     "output_type": "execute_result"
    }
   ],
   "source": [
    "da = df.shape[1] -1 \n",
    "prior_la = (count + 1) / (np.sum(count) + da)\n",
    "prior_la"
   ]
  },
  {
   "cell_type": "code",
   "execution_count": 418,
   "metadata": {},
   "outputs": [
    {
     "data": {
      "text/plain": [
       "array(['Cao', 'Lanh', 'Manh', 'Mua', 'Mát', 'Nang', 'NhieuMay', 'Nóng',\n",
       "       'Thuong', 'Yeu'], dtype=object)"
      ]
     },
     "execution_count": 418,
     "metadata": {},
     "output_type": "execute_result"
    }
   ],
   "source": [
    "feature = np.unique(df[:,:-1])\n",
    "feature"
   ]
  },
  {
   "cell_type": "code",
   "execution_count": 419,
   "metadata": {},
   "outputs": [],
   "source": [
    "def count_arr(values, arr, alpha):\n",
    "    dict = {}\n",
    "    for i in values:\n",
    "        dict[i] = alpha\n",
    "    \n",
    "    for i in arr:\n",
    "        dict[i] += 1\n",
    "        \n",
    "    return dict\n",
    "            "
   ]
  },
  {
   "cell_type": "code",
   "execution_count": 420,
   "metadata": {},
   "outputs": [
    {
     "name": "stdout",
     "output_type": "stream",
     "text": [
      "['Có' 'Không'] [9 5]\n"
     ]
    },
    {
     "data": {
      "text/plain": [
       "{'Có': 10, 'Không': 6}"
      ]
     },
     "execution_count": 420,
     "metadata": {},
     "output_type": "execute_result"
    }
   ],
   "source": [
    "cl, c = np.unique(df[:,-1], return_counts=True)\n",
    "print(cl,c)\n",
    "count_arr(values=cl, arr=df[:,-1], alpha= 1)\n"
   ]
  },
  {
   "cell_type": "code",
   "execution_count": 421,
   "metadata": {},
   "outputs": [
    {
     "name": "stdout",
     "output_type": "stream",
     "text": [
      "[0.55555556 0.33333333]\n"
     ]
    },
    {
     "data": {
      "text/plain": [
       "{'Mua': array([0.38461538, 0.33333333]),\n",
       " 'Nang': array([0.15384615, 0.44444444]),\n",
       " 'NhieuMay': array([0.38461538, 0.11111111]),\n",
       " 'Lanh': array([0.38461538, 0.22222222]),\n",
       " 'Mát': array([0.30769231, 0.33333333]),\n",
       " 'Nóng': array([0.23076923, 0.33333333]),\n",
       " 'Cao': array([0.30769231, 0.55555556]),\n",
       " 'Thuong': array([0.53846154, 0.22222222]),\n",
       " 'Manh': array([0.30769231, 0.44444444]),\n",
       " 'Yeu': array([0.53846154, 0.33333333])}"
      ]
     },
     "execution_count": 421,
     "metadata": {},
     "output_type": "execute_result"
    }
   ],
   "source": [
    "dict = {}\n",
    "for i in range(df.shape[1]-1):\n",
    "    cl, c = np.unique(df[:,i],return_counts=True)\n",
    "    for m,n in zip(cl,c):\n",
    "        d = count_arr(values=_class, arr= df[df[:,i] == m][:,-1], alpha=1)\n",
    "        v = np.array(list(d.values()))\n",
    "        # print('m',m)\n",
    "        # print('d',d)\n",
    "        # print('v',v)\n",
    "        dict[m] =  v / (count + da)\n",
    "        \n",
    "print(prior_la)       \n",
    "dict"
   ]
  },
  {
   "cell_type": "code",
   "execution_count": 422,
   "metadata": {},
   "outputs": [],
   "source": [
    "def predict(test,prior_la):\n",
    "    rs = np.copy(prior_la)\n",
    "    for i in test:\n",
    "        rs *= dict[i]\n",
    "    tl = [\"Có\" , \"Không\"]\n",
    "    return tl[np.argmax(rs)]"
   ]
  },
  {
   "cell_type": "code",
   "execution_count": 423,
   "metadata": {},
   "outputs": [
    {
     "name": "stdout",
     "output_type": "stream",
     "text": [
      "True\n",
      "True\n",
      "True\n",
      "True\n",
      "True\n",
      "False\n",
      "True\n",
      "True\n",
      "True\n",
      "True\n",
      "True\n",
      "True\n",
      "True\n",
      "True\n"
     ]
    }
   ],
   "source": [
    "tests = df[:,:-1]\n",
    "\n",
    "for test,y_true in zip(tests,df[:,-1]):\n",
    "    print(predict(test,prior_la=prior_la) == y_true)"
   ]
  },
  {
   "cell_type": "code",
   "execution_count": 424,
   "metadata": {},
   "outputs": [],
   "source": [
    "#         ['Nang', 'Nóng', 'Cao', 'Yeu', 'Không'],\n",
    "#        ['Nang', 'Nóng', 'Cao', 'Manh', 'Không'],\n",
    "#        ['NhieuMay', 'Nóng', 'Cao', 'Yeu', 'Có'],\n",
    "#        ['Mua', 'Mát', 'Cao', 'Yeu', 'Có'],\n",
    "#        ['Mua', 'Lanh', 'Thuong', 'Yeu', 'Có'],\n",
    "        ['Mua', 'Lanh', 'Thuong', 'Manh', 'Không'],\n",
    "#        ['NhieuMay', 'Lanh', 'Thuong', 'Manh', 'Có'],\n",
    "#        ['Nang', 'Mát', 'Cao', 'Yeu', 'Không'],\n",
    "#        ['Nang', 'Lanh', 'Thuong', 'Yeu', 'Có'],\n",
    "#        ['Mua', 'Lanh', 'Thuong', 'Yeu', 'Có'],\n",
    "#        ['Mua', 'Mát', 'Thuong', 'Manh', 'Có'],\n",
    "#        ['NhieuMay', 'Mát', 'Cao', 'Manh', 'Có'],\n",
    "#        ['NhieuMay', 'Nóng', 'Thuong', 'Yeu', 'Có'],\n",
    "#        ['Mua', 'Mát', 'Cao', 'Manh', 'Không']]"
   ]
  },
  {
   "cell_type": "code",
   "execution_count": 425,
   "metadata": {},
   "outputs": [
    {
     "data": {
      "text/plain": [
       "array([0.55555556, 0.33333333])"
      ]
     },
     "execution_count": 425,
     "metadata": {},
     "output_type": "execute_result"
    }
   ],
   "source": [
    "prior_la"
   ]
  },
  {
   "cell_type": "code",
   "execution_count": 428,
   "metadata": {},
   "outputs": [
    {
     "name": "stdout",
     "output_type": "stream",
     "text": [
      "['NhieuMay' 'Lanh' 'Thuong' 'Manh']\n",
      "[0.55555556 0.33333333]\n",
      "[0.01361608 0.00081288]\n"
     ]
    }
   ],
   "source": [
    "t = df[6,:-1]\n",
    "print(t)\n",
    "rs = prior_la.copy()\n",
    "print(rs)\n",
    "for i in t:\n",
    "    rs *= dict[i]\n",
    "print(rs)"
   ]
  }
 ],
 "metadata": {
  "kernelspec": {
   "display_name": "Python 3",
   "language": "python",
   "name": "python3"
  },
  "language_info": {
   "codemirror_mode": {
    "name": "ipython",
    "version": 3
   },
   "file_extension": ".py",
   "mimetype": "text/x-python",
   "name": "python",
   "nbconvert_exporter": "python",
   "pygments_lexer": "ipython3",
   "version": "3.10.12"
  },
  "orig_nbformat": 4
 },
 "nbformat": 4,
 "nbformat_minor": 2
}
