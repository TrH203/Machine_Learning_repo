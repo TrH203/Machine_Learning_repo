{
  "cells": [
    {
      "cell_type": "code",
      "execution_count": 124,
      "metadata": {},
      "outputs": [],
      "source": [
        "import pandas as pd\n",
        "import numpy as np"
      ]
    },
    {
      "cell_type": "markdown",
      "metadata": {
        "id": "pcHZ4mSvpyeq"
      },
      "source": [
        "1. Load load dữ liệu từ file data_classification.csv lên Google colab. Đọc dữ liệu và lưu và biến data. Tách bộ dữ liệu lưu vào X, cột nhãn lưu vào biến y."
      ]
    },
    {
      "cell_type": "code",
      "execution_count": 125,
      "metadata": {
        "id": "2sJGidf3cuVI"
      },
      "outputs": [
        {
          "data": {
            "text/plain": [
              "array([[4.85506424, 9.63996157, 1.        ],\n",
              "       [8.62543976, 0.05892653, 0.        ],\n",
              "       [3.82819154, 0.72319923, 0.        ],\n",
              "       [7.15095484, 3.89942042, 1.        ],\n",
              "       [6.47790044, 8.19818055, 1.        ],\n",
              "       [1.9222695 , 1.33142726, 0.        ],\n",
              "       [8.97821589, 0.99343751, 1.        ],\n",
              "       [6.63560308, 8.54280268, 1.        ],\n",
              "       [7.67235895, 5.41639979, 1.        ],\n",
              "       [4.86601533, 2.04267129, 0.        ],\n",
              "       [6.86140497, 9.65530972, 1.        ],\n",
              "       [8.54042132, 2.59037423, 1.        ],\n",
              "       [3.71788065, 5.38166211, 0.        ],\n",
              "       [9.18129712, 0.17147465, 1.        ],\n",
              "       [9.56014002, 0.02494649, 0.        ],\n",
              "       [5.97136947, 4.18830187, 1.        ],\n",
              "       [9.43820269, 1.94381244, 1.        ],\n",
              "       [4.35755102, 9.88798331, 1.        ],\n",
              "       [4.54033196, 6.71387336, 1.        ],\n",
              "       [1.54910163, 9.37513216, 0.        ],\n",
              "       [8.08197371, 9.84220681, 1.        ],\n",
              "       [9.620465  , 2.09932754, 1.        ],\n",
              "       [8.83477098, 3.15220412, 1.        ],\n",
              "       [1.75344854, 4.2192426 , 0.        ],\n",
              "       [1.04321284, 2.60976512, 0.        ],\n",
              "       [1.19638318, 7.47574486, 0.        ],\n",
              "       [8.91006988, 8.23292794, 1.        ],\n",
              "       [4.52961874, 4.90551154, 1.        ],\n",
              "       [1.85911241, 5.69186756, 0.        ],\n",
              "       [9.55717884, 1.64467191, 1.        ],\n",
              "       [7.15470123, 8.0147902 , 1.        ],\n",
              "       [2.34361853, 2.95870685, 0.        ],\n",
              "       [2.92268449, 8.21759492, 1.        ],\n",
              "       [6.33309623, 7.24030498, 1.        ],\n",
              "       [0.92562818, 3.42126711, 0.        ],\n",
              "       [7.87439057, 7.79109336, 1.        ],\n",
              "       [8.34775105, 1.86081251, 1.        ],\n",
              "       [5.58106113, 2.49612929, 0.        ],\n",
              "       [5.09102909, 9.87313409, 1.        ],\n",
              "       [4.53017137, 3.761759  , 0.        ],\n",
              "       [1.42377799, 0.22859793, 0.        ],\n",
              "       [9.09596013, 1.06791705, 1.        ],\n",
              "       [4.00661592, 9.79212786, 1.        ],\n",
              "       [8.97656743, 3.93515977, 1.        ],\n",
              "       [0.09805288, 7.21451254, 0.        ],\n",
              "       [0.45238867, 2.77469425, 0.        ],\n",
              "       [3.86304627, 3.91320229, 0.        ],\n",
              "       [7.86385017, 7.72638337, 1.        ],\n",
              "       [8.92270641, 7.75421671, 1.        ],\n",
              "       [7.46436788, 9.94517621, 1.        ],\n",
              "       [1.34192929, 2.34287804, 0.        ],\n",
              "       [5.9409696 , 4.62063163, 1.        ],\n",
              "       [0.90407766, 9.42092878, 0.        ],\n",
              "       [7.75053006, 9.05717188, 1.        ],\n",
              "       [9.51792529, 1.3011859 , 0.        ],\n",
              "       [7.74378671, 1.15442169, 0.        ],\n",
              "       [7.69192306, 8.29822782, 1.        ],\n",
              "       [7.09227303, 2.35745691, 0.        ],\n",
              "       [6.94443908, 6.48470389, 1.        ],\n",
              "       [0.04502472, 3.34600593, 0.        ],\n",
              "       [1.54596913, 7.56770009, 1.        ],\n",
              "       [5.27238317, 9.14961537, 1.        ],\n",
              "       [0.86040708, 8.98818814, 0.        ],\n",
              "       [7.25343893, 1.76251062, 1.        ],\n",
              "       [7.51730898, 2.24892929, 0.        ],\n",
              "       [9.08162719, 1.4373504 , 1.        ],\n",
              "       [0.45567818, 4.72229748, 0.        ],\n",
              "       [6.94970542, 1.41129336, 0.        ],\n",
              "       [9.28214252, 8.52933054, 1.        ],\n",
              "       [7.18081269, 3.61076342, 1.        ],\n",
              "       [1.13248839, 3.26491181, 0.        ],\n",
              "       [7.74652845, 3.64301925, 1.        ],\n",
              "       [7.06536045, 1.12132813, 0.        ],\n",
              "       [6.50581749, 0.86310223, 0.        ],\n",
              "       [5.70052911, 7.08354423, 1.        ],\n",
              "       [6.66046669, 2.25395578, 0.        ],\n",
              "       [1.09147202, 7.08437697, 0.        ],\n",
              "       [4.90308762, 6.02547778, 0.        ],\n",
              "       [3.44310934, 7.06634686, 0.        ],\n",
              "       [8.18297806, 0.97498656, 1.        ],\n",
              "       [9.00037648, 9.54932786, 1.        ],\n",
              "       [9.68310414, 9.50704973, 1.        ],\n",
              "       [2.99191148, 5.29921046, 0.        ],\n",
              "       [2.23818348, 4.5348437 , 0.        ],\n",
              "       [0.66547833, 9.78263644, 1.        ],\n",
              "       [6.77931871, 2.02818075, 0.        ],\n",
              "       [9.94784093, 1.02645781, 1.        ],\n",
              "       [3.21484922, 0.48505899, 0.        ],\n",
              "       [8.85164631, 1.02791596, 1.        ],\n",
              "       [0.20005787, 4.83405955, 0.        ],\n",
              "       [5.18546951, 0.73263081, 0.        ],\n",
              "       [7.26008815, 3.97413383, 1.        ],\n",
              "       [9.15051613, 2.56233373, 1.        ],\n",
              "       [6.46089606, 7.07629269, 1.        ],\n",
              "       [4.77857249, 8.28287133, 1.        ],\n",
              "       [0.02227957, 2.65842789, 0.        ],\n",
              "       [7.63063693, 7.4053514 , 1.        ],\n",
              "       [3.68499747, 5.04996512, 0.        ],\n",
              "       [7.48425954, 6.05939581, 1.        ],\n",
              "       [2.03070798, 3.93726653, 0.        ]])"
            ]
          },
          "execution_count": 125,
          "metadata": {},
          "output_type": "execute_result"
        }
      ],
      "source": [
        "df = pd.read_csv(\"data_classification.csv\", header=None).values\n",
        "df"
      ]
    },
    {
      "cell_type": "markdown",
      "metadata": {
        "id": "lA0DmeXCdBSn"
      },
      "source": [
        "2. Bổ sung cột số 1 và tập X, chuyển các giá trị nhãn về 1 và -1."
      ]
    },
    {
      "cell_type": "code",
      "execution_count": 126,
      "metadata": {},
      "outputs": [
        {
          "data": {
            "text/plain": [
              "array([[4.85506424, 9.63996157],\n",
              "       [8.62543976, 0.05892653],\n",
              "       [3.82819154, 0.72319923],\n",
              "       [7.15095484, 3.89942042],\n",
              "       [6.47790044, 8.19818055],\n",
              "       [1.9222695 , 1.33142726],\n",
              "       [8.97821589, 0.99343751],\n",
              "       [6.63560308, 8.54280268],\n",
              "       [7.67235895, 5.41639979],\n",
              "       [4.86601533, 2.04267129],\n",
              "       [6.86140497, 9.65530972],\n",
              "       [8.54042132, 2.59037423],\n",
              "       [3.71788065, 5.38166211],\n",
              "       [9.18129712, 0.17147465],\n",
              "       [9.56014002, 0.02494649],\n",
              "       [5.97136947, 4.18830187],\n",
              "       [9.43820269, 1.94381244],\n",
              "       [4.35755102, 9.88798331],\n",
              "       [4.54033196, 6.71387336],\n",
              "       [1.54910163, 9.37513216],\n",
              "       [8.08197371, 9.84220681],\n",
              "       [9.620465  , 2.09932754],\n",
              "       [8.83477098, 3.15220412],\n",
              "       [1.75344854, 4.2192426 ],\n",
              "       [1.04321284, 2.60976512],\n",
              "       [1.19638318, 7.47574486],\n",
              "       [8.91006988, 8.23292794],\n",
              "       [4.52961874, 4.90551154],\n",
              "       [1.85911241, 5.69186756],\n",
              "       [9.55717884, 1.64467191],\n",
              "       [7.15470123, 8.0147902 ],\n",
              "       [2.34361853, 2.95870685],\n",
              "       [2.92268449, 8.21759492],\n",
              "       [6.33309623, 7.24030498],\n",
              "       [0.92562818, 3.42126711],\n",
              "       [7.87439057, 7.79109336],\n",
              "       [8.34775105, 1.86081251],\n",
              "       [5.58106113, 2.49612929],\n",
              "       [5.09102909, 9.87313409],\n",
              "       [4.53017137, 3.761759  ],\n",
              "       [1.42377799, 0.22859793],\n",
              "       [9.09596013, 1.06791705],\n",
              "       [4.00661592, 9.79212786],\n",
              "       [8.97656743, 3.93515977],\n",
              "       [0.09805288, 7.21451254],\n",
              "       [0.45238867, 2.77469425],\n",
              "       [3.86304627, 3.91320229],\n",
              "       [7.86385017, 7.72638337],\n",
              "       [8.92270641, 7.75421671],\n",
              "       [7.46436788, 9.94517621],\n",
              "       [1.34192929, 2.34287804],\n",
              "       [5.9409696 , 4.62063163],\n",
              "       [0.90407766, 9.42092878],\n",
              "       [7.75053006, 9.05717188],\n",
              "       [9.51792529, 1.3011859 ],\n",
              "       [7.74378671, 1.15442169],\n",
              "       [7.69192306, 8.29822782],\n",
              "       [7.09227303, 2.35745691],\n",
              "       [6.94443908, 6.48470389],\n",
              "       [0.04502472, 3.34600593],\n",
              "       [1.54596913, 7.56770009],\n",
              "       [5.27238317, 9.14961537],\n",
              "       [0.86040708, 8.98818814],\n",
              "       [7.25343893, 1.76251062],\n",
              "       [7.51730898, 2.24892929],\n",
              "       [9.08162719, 1.4373504 ],\n",
              "       [0.45567818, 4.72229748],\n",
              "       [6.94970542, 1.41129336],\n",
              "       [9.28214252, 8.52933054],\n",
              "       [7.18081269, 3.61076342],\n",
              "       [1.13248839, 3.26491181],\n",
              "       [7.74652845, 3.64301925],\n",
              "       [7.06536045, 1.12132813],\n",
              "       [6.50581749, 0.86310223],\n",
              "       [5.70052911, 7.08354423],\n",
              "       [6.66046669, 2.25395578],\n",
              "       [1.09147202, 7.08437697],\n",
              "       [4.90308762, 6.02547778],\n",
              "       [3.44310934, 7.06634686],\n",
              "       [8.18297806, 0.97498656],\n",
              "       [9.00037648, 9.54932786],\n",
              "       [9.68310414, 9.50704973],\n",
              "       [2.99191148, 5.29921046],\n",
              "       [2.23818348, 4.5348437 ],\n",
              "       [0.66547833, 9.78263644],\n",
              "       [6.77931871, 2.02818075],\n",
              "       [9.94784093, 1.02645781],\n",
              "       [3.21484922, 0.48505899],\n",
              "       [8.85164631, 1.02791596],\n",
              "       [0.20005787, 4.83405955],\n",
              "       [5.18546951, 0.73263081],\n",
              "       [7.26008815, 3.97413383],\n",
              "       [9.15051613, 2.56233373],\n",
              "       [6.46089606, 7.07629269],\n",
              "       [4.77857249, 8.28287133],\n",
              "       [0.02227957, 2.65842789],\n",
              "       [7.63063693, 7.4053514 ],\n",
              "       [3.68499747, 5.04996512],\n",
              "       [7.48425954, 6.05939581],\n",
              "       [2.03070798, 3.93726653]])"
            ]
          },
          "execution_count": 126,
          "metadata": {},
          "output_type": "execute_result"
        }
      ],
      "source": [
        "dong, cot = df.shape\n",
        "X = df[:,0:cot-1].reshape(dong,cot-1)\n",
        "Y = df[:,-1].reshape(dong,1)\n",
        "Y = np.array(Y)\n",
        "X"
      ]
    },
    {
      "cell_type": "code",
      "execution_count": 127,
      "metadata": {},
      "outputs": [
        {
          "data": {
            "text/plain": [
              "array([[ 1.],\n",
              "       [-1.],\n",
              "       [-1.],\n",
              "       [ 1.],\n",
              "       [ 1.],\n",
              "       [-1.],\n",
              "       [ 1.],\n",
              "       [ 1.],\n",
              "       [ 1.],\n",
              "       [-1.],\n",
              "       [ 1.],\n",
              "       [ 1.],\n",
              "       [-1.],\n",
              "       [ 1.],\n",
              "       [-1.],\n",
              "       [ 1.],\n",
              "       [ 1.],\n",
              "       [ 1.],\n",
              "       [ 1.],\n",
              "       [-1.],\n",
              "       [ 1.],\n",
              "       [ 1.],\n",
              "       [ 1.],\n",
              "       [-1.],\n",
              "       [-1.],\n",
              "       [-1.],\n",
              "       [ 1.],\n",
              "       [ 1.],\n",
              "       [-1.],\n",
              "       [ 1.],\n",
              "       [ 1.],\n",
              "       [-1.],\n",
              "       [ 1.],\n",
              "       [ 1.],\n",
              "       [-1.],\n",
              "       [ 1.],\n",
              "       [ 1.],\n",
              "       [-1.],\n",
              "       [ 1.],\n",
              "       [-1.],\n",
              "       [-1.],\n",
              "       [ 1.],\n",
              "       [ 1.],\n",
              "       [ 1.],\n",
              "       [-1.],\n",
              "       [-1.],\n",
              "       [-1.],\n",
              "       [ 1.],\n",
              "       [ 1.],\n",
              "       [ 1.],\n",
              "       [-1.],\n",
              "       [ 1.],\n",
              "       [-1.],\n",
              "       [ 1.],\n",
              "       [-1.],\n",
              "       [-1.],\n",
              "       [ 1.],\n",
              "       [-1.],\n",
              "       [ 1.],\n",
              "       [-1.],\n",
              "       [ 1.],\n",
              "       [ 1.],\n",
              "       [-1.],\n",
              "       [ 1.],\n",
              "       [-1.],\n",
              "       [ 1.],\n",
              "       [-1.],\n",
              "       [-1.],\n",
              "       [ 1.],\n",
              "       [ 1.],\n",
              "       [-1.],\n",
              "       [ 1.],\n",
              "       [-1.],\n",
              "       [-1.],\n",
              "       [ 1.],\n",
              "       [-1.],\n",
              "       [-1.],\n",
              "       [-1.],\n",
              "       [-1.],\n",
              "       [ 1.],\n",
              "       [ 1.],\n",
              "       [ 1.],\n",
              "       [-1.],\n",
              "       [-1.],\n",
              "       [ 1.],\n",
              "       [-1.],\n",
              "       [ 1.],\n",
              "       [-1.],\n",
              "       [ 1.],\n",
              "       [-1.],\n",
              "       [-1.],\n",
              "       [ 1.],\n",
              "       [ 1.],\n",
              "       [ 1.],\n",
              "       [ 1.],\n",
              "       [-1.],\n",
              "       [ 1.],\n",
              "       [-1.],\n",
              "       [ 1.],\n",
              "       [-1.]])"
            ]
          },
          "execution_count": 127,
          "metadata": {},
          "output_type": "execute_result"
        }
      ],
      "source": [
        "np.place(Y,Y==0,-1)\n",
        "Y.reshape(100,1)\n"
      ]
    },
    {
      "cell_type": "code",
      "execution_count": 128,
      "metadata": {},
      "outputs": [],
      "source": [
        "def train_test_split(X,Y,percentage):\n",
        "  n = int(len(X)* (percentage/100))\n",
        "  tmp = np.random.choice(np.arange(0, len(X)), replace=False,size=(len(X)))\n",
        "  x_train = [X[i] for i in tmp[:n]]\n",
        "  x_test = [Y[i] for i in tmp[:n]]\n",
        "  y_train = [X[i] for i in tmp[n:]]\n",
        "  y_test = [Y[i] for i in tmp[n:]]\n",
        "  \n",
        "  return x_train,x_test,y_train,y_test"
      ]
    },
    {
      "cell_type": "markdown",
      "metadata": {
        "id": "06T7SiNNqOcy"
      },
      "source": [
        "3. Viết hàm train_test_split(X,y,percen) để tách ngẫu nhiên dữ liệu từ tập X ra thành X_train, X_test, y_train, y_test. Theo một tỉ lệ percen cho trước."
      ]
    },
    {
      "cell_type": "code",
      "execution_count": 129,
      "metadata": {},
      "outputs": [],
      "source": [
        "X = [[1,1],\n",
        "     [2,2],\n",
        "     [3,3],\n",
        "     [4,4],\n",
        "     [5,5]]\n",
        "Y = [[1],\n",
        "     [2],\n",
        "     [3],\n",
        "     [4],\n",
        "     [5]]"
      ]
    },
    {
      "cell_type": "code",
      "execution_count": 130,
      "metadata": {
        "id": "Ug7uWt7ZSTSM"
      },
      "outputs": [
        {
          "name": "stdout",
          "output_type": "stream",
          "text": [
            "Tệp Train:  [[1, 1], [4, 4], [2, 2], [3, 3]] \n",
            "Nhãn Train:  [[5, 5]]\n",
            "Tệp test:  [[1], [4], [2], [3]] \n",
            "Nhãn test:  [[5]]\n"
          ]
        }
      ],
      "source": [
        "X_train,X_test,y_train,y_test=train_test_split(X,Y,80)\n",
        "print(\"Tệp Train: \",X_train, \"\\nNhãn Train: \",y_train)\n",
        "print(\"Tệp test: \",X_test,\"\\nNhãn test: \",y_test)"
      ]
    },
    {
      "cell_type": "markdown",
      "metadata": {
        "id": "iaeNAfq3qfyw"
      },
      "source": [
        "4. Viết code để tính khoảng cách từ vector A=[2,3] đến tất cả các điểm trong tập X=[[1,2],[2,3],[4,5],[5,8]]. Kết quả tính được lưu vào cột cuối cùng."
      ]
    },
    {
      "cell_type": "code",
      "execution_count": 131,
      "metadata": {},
      "outputs": [
        {
          "data": {
            "text/plain": [
              "[[1, 2, 2.0], [2, 3, 0.0], [4, 5, 4.0], [5, 8, 8.0]]"
            ]
          },
          "execution_count": 131,
          "metadata": {},
          "output_type": "execute_result"
        }
      ],
      "source": [
        "import math\n",
        "A = [2,3]\n",
        "X=[[1,2],[2,3],[4,5],[5,8]]\n",
        "kc = []\n",
        "for i in X:\n",
        "    sum = 0 \n",
        "    for j in range(len(A)):\n",
        "        sum  += math.sqrt((i[j] - A[j])**2)\n",
        "    i.append(sum)\n",
        "    \n",
        "X"
      ]
    },
    {
      "cell_type": "code",
      "execution_count": 132,
      "metadata": {},
      "outputs": [
        {
          "data": {
            "text/plain": [
              "array([[1.        , 2.        , 1.41421356],\n",
              "       [2.        , 3.        , 0.        ],\n",
              "       [4.        , 5.        , 2.82842712],\n",
              "       [5.        , 8.        , 5.83095189]])"
            ]
          },
          "execution_count": 132,
          "metadata": {},
          "output_type": "execute_result"
        }
      ],
      "source": [
        "import math\n",
        "A = np.array([2,3])\n",
        "X=np.array([[1,2],[2,3],[4,5],[5,8]])\n",
        "\n",
        "def cal_distance(X,a):\n",
        "    s = []\n",
        "    for i in X:        \n",
        "        s.append(math.sqrt(np.sum((A - i)**2)))        \n",
        "    s = np.array(s).reshape(len(s),1)\n",
        "    return np.concatenate((X,s),axis=1)\n",
        "\n",
        "cal_distance(X,A)"
      ]
    },
    {
      "cell_type": "markdown",
      "metadata": {
        "id": "HgNImF7AtxC-"
      },
      "source": [
        "5. Viết hàm so sánh hai ma trận M và N."
      ]
    },
    {
      "cell_type": "code",
      "execution_count": 133,
      "metadata": {},
      "outputs": [
        {
          "name": "stdout",
          "output_type": "stream",
          "text": [
            "False\n",
            "True\n"
          ]
        }
      ],
      "source": [
        "m = [[1, 2, 3],\n",
        "     [6, 4, 2],\n",
        "     [3, 5, 7],\n",
        "     [1, 8, 1]]\n",
        "n = [[[4, 7, 8],\n",
        "     [6, 9, 7],\n",
        "     [2, 1, 3]]]\n",
        "m = np.array(m)\n",
        "n = np.array(n)\n",
        "def compare_matrix(a,b):\n",
        "    list_shape1 =[i for i in a.shape]\n",
        "    list_shape2 =[i for i in b.shape]\n",
        "    if len(list_shape1) != len(list_shape2):\n",
        "        return False\n",
        "    a = a.reshape(np.prod(list_shape1))\n",
        "    b = b.reshape(np.prod(list_shape2))\n",
        "    for i in range(np.prod(list_shape2)):\n",
        "        if a[i]!=b[i]:\n",
        "            return False\n",
        "    return True\n",
        "print(compare_matrix(m,n))\n",
        "print(compare_matrix(m,m))"
      ]
    },
    {
      "cell_type": "code",
      "execution_count": 134,
      "metadata": {},
      "outputs": [
        {
          "name": "stdout",
          "output_type": "stream",
          "text": [
            "False\n",
            "True\n",
            "True\n"
          ]
        }
      ],
      "source": [
        "m = [[1, 2, 3],\n",
        "     [6, 4, 2],\n",
        "     [3, 5, 7],\n",
        "     [1, 8, 1]]\n",
        "n = [[[4, 7, 8],\n",
        "     [6, 9, 7],\n",
        "     [2, 1, 3]]]\n",
        "g = [[1, 2, 3],\n",
        "     [6, 4, 2],\n",
        "     [3, 5, 7],\n",
        "     [1, 8, 1]]\n",
        "m = np.array(m)\n",
        "n = np.array(n)\n",
        "g = np.array(g)\n",
        "def compare_matrix(a,b):\n",
        "    list_shape1 =[i for i in a.shape]\n",
        "    list_shape2 =[i for i in b.shape]\n",
        "    if len(list_shape1) != len(list_shape2):\n",
        "        return False\n",
        "    # for i in range(len(a)):\n",
        "    #     if np.sum(np.equal(a[i],b[i])) != len(a[i]):\n",
        "    #         return False\n",
        "    for (i,j) in zip(a,b):\n",
        "        if (i!=j).any():\n",
        "            return False\n",
        "\n",
        "    return True\n",
        "print(compare_matrix(m,n))\n",
        "print(compare_matrix(m,m))\n",
        "print(compare_matrix(m,g))"
      ]
    },
    {
      "cell_type": "markdown",
      "metadata": {
        "id": "3pbNY1kBrUVB"
      },
      "source": [
        "6. Viết hàm sắp xếp ma trận M theo thứ tự tăng dần của cột C"
      ]
    },
    {
      "cell_type": "code",
      "execution_count": 135,
      "metadata": {},
      "outputs": [
        {
          "data": {
            "text/plain": [
              "array([[1, 8, 1],\n",
              "       [6, 4, 2],\n",
              "       [1, 2, 3],\n",
              "       [3, 5, 7]])"
            ]
          },
          "execution_count": 135,
          "metadata": {},
          "output_type": "execute_result"
        }
      ],
      "source": [
        "m = [[1, 2, 3],\n",
        "     [6, 4, 2],\n",
        "     [3, 5, 7],\n",
        "     [1, 8, 1]]\n",
        "m = np.array(m)\n",
        "def sort_matrix(matrix,col):\n",
        "    for i in range(len(matrix)-1):\n",
        "        for j in range(i+1,len(matrix)):\n",
        "            if matrix[j][col] < matrix[i][col]:\n",
        "                # tmp = np.copy(matrix[i])\n",
        "                # matrix[i] = matrix[j]\n",
        "                # matrix[j] = tmp\n",
        "                matrix[[i,j]] = matrix[[j,i]]\n",
        "    return matrix\n",
        "\n",
        "sort_matrix(m,2)\n"
      ]
    },
    {
      "cell_type": "code",
      "execution_count": 136,
      "metadata": {},
      "outputs": [
        {
          "data": {
            "text/plain": [
              "array([[1, 2, 3],\n",
              "       [2, 4, 6],\n",
              "       [3, 5, 7],\n",
              "       [1, 1, 8]])"
            ]
          },
          "execution_count": 136,
          "metadata": {},
          "output_type": "execute_result"
        }
      ],
      "source": [
        "m = [[1, 2, 3],\n",
        "     [6, 4, 2],\n",
        "     [3, 5, 7],\n",
        "     [1, 8, 1]]\n",
        "m = np.array(m)\n",
        "np.sort(m,axis=1)"
      ]
    },
    {
      "cell_type": "markdown",
      "metadata": {
        "id": "KTyIuzJMw4uO"
      },
      "source": [
        "7. Cho list sau: list_of_words=['Cars', 'Cats', 'Flowers', 'Cats','Cats','Cats']. Cho biết loại phần tử nào xuất hiện nhiều nhất và số lần xuất hiên là bao nhiêu."
      ]
    },
    {
      "cell_type": "code",
      "execution_count": 137,
      "metadata": {},
      "outputs": [
        {
          "data": {
            "text/plain": [
              "('Cats', 4)"
            ]
          },
          "execution_count": 137,
          "metadata": {},
          "output_type": "execute_result"
        }
      ],
      "source": [
        "list_of_words=['Cars', 'Cats', 'Flowers', 'Cats','Cats','Cats']\n",
        "\n",
        "def counter_words_in_list(llist):\n",
        "    d = {}\n",
        "    for i in llist:\n",
        "        if d.get(i):\n",
        "            d[i] += 1\n",
        "        else:\n",
        "            d[i] = 1\n",
        "    m = 0\n",
        "    word = \"\"\n",
        "    for i in d.keys():\n",
        "        if m < d[i]:\n",
        "            m = d[i]\n",
        "            word = i\n",
        "    return (word, m)\n",
        "\n",
        "counter_words_in_list(list_of_words)"
      ]
    },
    {
      "cell_type": "markdown",
      "metadata": {
        "id": "IT2UMl2I3Rfe"
      },
      "source": [
        "8. Cho ma trận aa như sau: aa=np.array(            [['a','a','c'],\n",
        "             ['c','d','c'],\n",
        "             ['e','e','e']]).\n",
        "Viết code để in ra kết qua sau:\n",
        " [('a', 2)]\n",
        " [('c', 2)]\n",
        " [('e', 3)]"
      ]
    },
    {
      "cell_type": "code",
      "execution_count": 138,
      "metadata": {},
      "outputs": [
        {
          "name": "stdout",
          "output_type": "stream",
          "text": [
            "(3, 3)\n"
          ]
        },
        {
          "data": {
            "text/plain": [
              "[('a', 2), ('c', 2), ('e', 3)]"
            ]
          },
          "execution_count": 138,
          "metadata": {},
          "output_type": "execute_result"
        }
      ],
      "source": [
        "aa=np.array([['a','a','c'],\n",
        "             ['c','d','c'],\n",
        "             ['e','e','e']])\n",
        "print(aa.shape)\n",
        "l = []\n",
        "for i in aa:\n",
        "    l.append(counter_words_in_list(i))\n",
        "\n",
        "l"
      ]
    },
    {
      "cell_type": "markdown",
      "metadata": {
        "id": "HN50yOU1n24s"
      },
      "source": [
        "9. Cho dữ liệu như sau: w=np.array([3,4,1])\n",
        "\n",
        "X_train=np.array([[1,1,1],\n",
        "              [1,2,1],                      [4,5,1],\n",
        "              [4,6,1]])\n",
        "y_train=[1,1,-1,-1]\n",
        "Duyệt qua từng hàng của X_train (i) nhân với w. Dùng hàm sign trong numpy để chuyển kết quả nhân về -1 và 1, so sanh với nhãn thứ i nếu không giống nhau thì cập nhật w=w+ X_train[i,:]*y[i].\n",
        "Lặp lại cho đến khi các nhãn dự đoán được giống với y_train thì dừng. Hiển thị giá trị w trong quá trình thực thi chương trình\n"
      ]
    },
    {
      "cell_type": "code",
      "execution_count": 139,
      "metadata": {},
      "outputs": [],
      "source": [
        "w = np.array([3, 4, 1])\n",
        "X_train = np.array([[1, 1, 1],\n",
        "                    [1, 2, 1],\n",
        "                    [4, 5, 1],\n",
        "                    [4, 6, 1]])\n",
        "y_train = [1, 1, -1, -1]\n",
        "hoi_tu = False\n",
        "while not hoi_tu:\n",
        "    hoi_tu = True\n",
        "    for i in range(len(X_train)):\n",
        "        dudoan = np.sign(np.dot(X_train[i],w))\n",
        "        \n",
        "        if dudoan != y_train[i]:\n",
        "            w += X_train[i]*y_train[i]\n",
        "            hoi_tu = False\n",
        "    if hoi_tu:\n",
        "        break\n",
        "\n"
      ]
    },
    {
      "cell_type": "markdown",
      "metadata": {},
      "source": []
    },
    {
      "cell_type": "code",
      "execution_count": 140,
      "metadata": {},
      "outputs": [
        {
          "data": {
            "text/plain": [
              "array([ 1,  1, -1, -1])"
            ]
          },
          "execution_count": 140,
          "metadata": {},
          "output_type": "execute_result"
        }
      ],
      "source": [
        "np.sign(np.dot(X_train,w))"
      ]
    },
    {
      "cell_type": "markdown",
      "metadata": {
        "id": "E8YHPgHdn_TF"
      },
      "source": [
        "10. Vẽ w và các điểm trong X_train."
      ]
    },
    {
      "cell_type": "code",
      "execution_count": 141,
      "metadata": {},
      "outputs": [
        {
          "data": {
            "image/png": "[encoded data removed]",
            "text/plain": [
              "<Figure size 640x480 with 1 Axes>"
            ]
          },
          "metadata": {},
          "output_type": "display_data"
        }
      ],
      "source": [
        "import numpy as np\n",
        "import matplotlib.pyplot as plt\n",
        "from mpl_toolkits.mplot3d import Axes3D\n",
        "\n",
        "\n",
        "x = X_train[:,0]\n",
        "y = X_train[:,1]\n",
        "z = X_train[:,2]\n",
        "\n",
        "\n",
        "fig = plt.figure()\n",
        "ax = fig.add_subplot(111, projection='3d')\n",
        "ax.scatter(x, y, z, c='b', marker='x')\n",
        "\n",
        "\n",
        "ax.set_xlabel('X')\n",
        "ax.set_ylabel('Y')\n",
        "ax.set_zlabel('Z')\n",
        "\n",
        "# Set the title\n",
        "ax.set_title('3D Scatter Plot')\n",
        "\n",
        "plt.show()\n"
      ]
    }
  ],
  "metadata": {
    "colab": {
      "provenance": []
    },
    "kernelspec": {
      "display_name": "Python 3",
      "name": "python3"
    },
    "language_info": {
      "codemirror_mode": {
        "name": "ipython",
        "version": 3
      },
      "file_extension": ".py",
      "mimetype": "text/x-python",
      "name": "python",
      "nbconvert_exporter": "python",
      "pygments_lexer": "ipython3",
      "version": "3.11.4"
    }
  },
  "nbformat": 4,
  "nbformat_minor": 0
}
