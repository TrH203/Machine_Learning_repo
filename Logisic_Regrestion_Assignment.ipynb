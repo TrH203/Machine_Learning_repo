{
  "cells": [
    {
      "cell_type": "code",
      "execution_count": 441,
      "metadata": {},
      "outputs": [],
      "source": [
        "import numpy as np\n",
        "import pandas as pd\n",
        "import matplotlib.pyplot as plt"
      ]
    },
    {
      "cell_type": "markdown",
      "metadata": {
        "id": "QNWlxuz0s62G"
      },
      "source": [
        "Cho ma trận sau:\n",
        "\n",
        "\n",
        "\n",
        "M=1 1 0\n",
        "  2 2 0\n",
        "  3 3 0\n",
        "  4 4 0\n",
        "  5 5 0\n",
        "  6 6 1\n",
        "  7 7 1\n",
        "  8 8 1\n",
        "  9 9 1\n",
        "  10 10 1\n",
        "\n",
        "  "
      ]
    },
    {
      "cell_type": "markdown",
      "metadata": {
        "id": "G7JonFdOttm0"
      },
      "source": [
        "1. Viết câu lệnh để tách cột 1 và 2 lưu vào ma trận X, cột 3 lưu vào y."
      ]
    },
    {
      "cell_type": "code",
      "execution_count": 442,
      "metadata": {
        "colab": {
          "background_save": true
        },
        "id": "IqtFt-Jft6Hb",
        "outputId": "f00f1915-fde6-474f-c4df-0ba6247dfcd0"
      },
      "outputs": [
        {
          "data": {
            "text/plain": [
              "(array([[ 1,  1],\n",
              "        [ 2,  2],\n",
              "        [ 3,  3],\n",
              "        [ 4,  4],\n",
              "        [ 5,  5],\n",
              "        [ 6,  6],\n",
              "        [ 7,  7],\n",
              "        [ 8,  8],\n",
              "        [ 9,  9],\n",
              "        [10, 10]]),\n",
              " array([0, 0, 0, 0, 0, 1, 1, 1, 1, 1]))"
            ]
          },
          "execution_count": 442,
          "metadata": {},
          "output_type": "execute_result"
        }
      ],
      "source": [
        "M=np.array([[1,1,0],\n",
        "            [2,2,0],\n",
        "            [3,3,0],\n",
        "            [4,4,0],\n",
        "            [5,5,0],\n",
        "            [6,6,1],\n",
        "            [7,7,1],\n",
        "            [8,8,1],\n",
        "            [9,9,1],\n",
        "            [10,10,1]])\n",
        "\n",
        "X = M[:,:2]\n",
        "y = M[:,-1]\n",
        "X,y"
      ]
    },
    {
      "cell_type": "markdown",
      "metadata": {
        "id": "bBsFggPOt6tf"
      },
      "source": [
        "2. Viết hàm để tách X và y thành X_test, X_train, y_test, y_train theo một tỉ lệ cho trước. In dữ liệu để kiểm tra"
      ]
    },
    {
      "cell_type": "code",
      "execution_count": 443,
      "metadata": {},
      "outputs": [],
      "source": [
        "def train_test_split(X,Y,percentage):\n",
        "  n = int(len(X)* (percentage/100))\n",
        "  tmp = np.random.choice(np.arange(0, len(X)), replace=False,size=(len(X)))\n",
        "  x_train = [X[i] for i in tmp[:n]]\n",
        "  y_train = [Y[i] for i in tmp[:n]]\n",
        "  x_test = [X[i] for i in tmp[n:]]\n",
        "  y_test = [Y[i] for i in tmp[n:]]\n",
        "  x_train = np.array(x_train)\n",
        "  x_test = np.array(x_test)\n",
        "  y_train = np.array(y_train)\n",
        "  y_test = np.array(y_test)\n",
        "  return x_train,x_test,y_train,y_test"
      ]
    },
    {
      "cell_type": "code",
      "execution_count": 444,
      "metadata": {},
      "outputs": [
        {
          "name": "stdout",
          "output_type": "stream",
          "text": [
            "X train:  [[ 4  4]\n",
            " [ 7  7]\n",
            " [ 5  5]\n",
            " [ 9  9]\n",
            " [ 8  8]\n",
            " [ 2  2]\n",
            " [ 6  6]\n",
            " [10 10]]\n",
            "y train:  [0 1 0 1 1 0 1 1]\n",
            "X test:  [[3 3]\n",
            " [1 1]]\n",
            "y test:  [0 0]\n"
          ]
        }
      ],
      "source": [
        "x_train, x_test, y_train, y_test = train_test_split(X,y,80)\n",
        "print(\"X train: \",x_train)\n",
        "print(\"y train: \",y_train)\n",
        "print(\"X test: \",x_test)\n",
        "print(\"y test: \",y_test)"
      ]
    },
    {
      "cell_type": "markdown",
      "metadata": {
        "id": "JUnXdLGUuMhT"
      },
      "source": [
        "3. Sử dụng thư viện có sẵn để tách bộ dữ liệu theo yêu cầu câu 2"
      ]
    },
    {
      "cell_type": "code",
      "execution_count": 445,
      "metadata": {},
      "outputs": [
        {
          "name": "stdout",
          "output_type": "stream",
          "text": [
            "X train:  [[ 8  8]\n",
            " [ 6  6]\n",
            " [ 7  7]\n",
            " [ 9  9]\n",
            " [ 1  1]\n",
            " [10 10]\n",
            " [ 3  3]\n",
            " [ 5  5]]\n",
            "y train:  [1 1 1 1 0 1 0 0]\n",
            "X test:  [[4 4]\n",
            " [2 2]]\n",
            "y test:  [0 0]\n"
          ]
        }
      ],
      "source": [
        "from sklearn.model_selection import train_test_split as train_test_split2 \n",
        "\n",
        "x_train, x_test, y_train, y_test = train_test_split2(X,y,test_size=2)\n",
        "print(\"X train: \",x_train)\n",
        "print(\"y train: \",y_train)\n",
        "print(\"X test: \",x_test)\n",
        "print(\"y test: \",y_test)"
      ]
    },
    {
      "cell_type": "markdown",
      "metadata": {
        "id": "GGX8x4eluWnl"
      },
      "source": [
        "4. Viết câu lệnh để đọc file Data_classification.csv cho trước lưu vào Dataset"
      ]
    },
    {
      "cell_type": "code",
      "execution_count": 446,
      "metadata": {},
      "outputs": [
        {
          "data": {
            "text/plain": [
              "array([[8.62543976, 0.05892653, 0.        ],\n",
              "       [3.82819154, 0.72319923, 0.        ],\n",
              "       [7.15095484, 3.89942042, 1.        ],\n",
              "       [6.47790044, 8.19818055, 1.        ],\n",
              "       [1.9222695 , 1.33142726, 0.        ],\n",
              "       [8.97821589, 0.99343751, 1.        ],\n",
              "       [6.63560308, 8.54280268, 1.        ],\n",
              "       [7.67235895, 5.41639979, 1.        ],\n",
              "       [4.86601533, 2.04267129, 0.        ],\n",
              "       [6.86140497, 9.65530972, 1.        ]])"
            ]
          },
          "execution_count": 446,
          "metadata": {},
          "output_type": "execute_result"
        }
      ],
      "source": [
        "data = pd.read_csv(\"data_classification.csv\").values\n",
        "data[:10]"
      ]
    },
    {
      "cell_type": "markdown",
      "metadata": {
        "id": "TU86KVqDkU3w"
      },
      "source": [
        "5. Vẽ các điểm dữ liệu ra màn hình, điểm có nhãn 0 vẽ màu đỏ, nhãn 1 vẽ màu xanh"
      ]
    },
    {
      "cell_type": "code",
      "execution_count": 447,
      "metadata": {},
      "outputs": [
        {
          "data": {
            "image/png": "[encoded data removed]",
            "text/plain": [
              "<Figure size 640x480 with 1 Axes>"
            ]
          },
          "metadata": {},
          "output_type": "display_data"
        }
      ],
      "source": [
        "red = data[data[:,-1] == 0]\n",
        "blue = data[data[:,-1] == 1]\n",
        "plt.figure()\n",
        "plt.scatter(red[:,0],red[:,1],c='r',marker='s',label ='fail')\n",
        "plt.scatter(blue[:,0],blue[:,1],c='b',marker='o',label =\"pass\")\n",
        "plt.xlabel(\"Learning hours\")\n",
        "plt.ylabel(\"Sleeping hours\")\n",
        "plt.title(\"Plot\")\n",
        "plt.legend(loc=1)\n",
        "plt.show()"
      ]
    },
    {
      "cell_type": "markdown",
      "metadata": {
        "id": "DSSLdx7GunJl"
      },
      "source": [
        "6. Tách tập dữ liệu Dataset ở câu 4 thành X và y"
      ]
    },
    {
      "cell_type": "code",
      "execution_count": 448,
      "metadata": {},
      "outputs": [
        {
          "name": "stdout",
          "output_type": "stream",
          "text": [
            "99 3\n",
            "[[8.62543976 0.05892653]\n",
            " [3.82819154 0.72319923]\n",
            " [7.15095484 3.89942042]\n",
            " [6.47790044 8.19818055]\n",
            " [1.9222695  1.33142726]\n",
            " [8.97821589 0.99343751]\n",
            " [6.63560308 8.54280268]\n",
            " [7.67235895 5.41639979]\n",
            " [4.86601533 2.04267129]\n",
            " [6.86140497 9.65530972]]\n",
            "[0. 0. 1. 1. 0. 1. 1. 1. 0. 1.]\n"
          ]
        }
      ],
      "source": [
        "dong, cot = data.shape\n",
        "print(dong,cot)\n",
        "X = data[:,:(cot-1)]\n",
        "y = data[:,-1]\n",
        "print(X[:10])\n",
        "print(y[:10])"
      ]
    },
    {
      "cell_type": "markdown",
      "metadata": {
        "id": "ro1Zcd-Dkm3B"
      },
      "source": [
        "7. Bổ sung cột số 1 vào trước X"
      ]
    },
    {
      "cell_type": "code",
      "execution_count": 449,
      "metadata": {},
      "outputs": [
        {
          "data": {
            "text/plain": [
              "array([[1.        , 8.62543976, 0.05892653],\n",
              "       [1.        , 3.82819154, 0.72319923],\n",
              "       [1.        , 7.15095484, 3.89942042],\n",
              "       [1.        , 6.47790044, 8.19818055],\n",
              "       [1.        , 1.9222695 , 1.33142726],\n",
              "       [1.        , 8.97821589, 0.99343751],\n",
              "       [1.        , 6.63560308, 8.54280268],\n",
              "       [1.        , 7.67235895, 5.41639979],\n",
              "       [1.        , 4.86601533, 2.04267129],\n",
              "       [1.        , 6.86140497, 9.65530972]])"
            ]
          },
          "execution_count": 449,
          "metadata": {},
          "output_type": "execute_result"
        }
      ],
      "source": [
        "z = np.ones((X.shape[0],1))\n",
        "X = np.concatenate((z,X),axis=1)\n",
        "X[:10]"
      ]
    },
    {
      "cell_type": "markdown",
      "metadata": {
        "id": "JF0lWZCtutPd"
      },
      "source": [
        "8. Tách X,y thành X_train, X_test, y_train, y_test. Dùng hàm tự viết và dùng thư viện có sẵn. In kết quả kiểm tra"
      ]
    },
    {
      "cell_type": "code",
      "execution_count": 450,
      "metadata": {},
      "outputs": [
        {
          "name": "stdout",
          "output_type": "stream",
          "text": [
            "X train:  [[1.         1.04321284 2.60976512]\n",
            " [1.         4.90308762 6.02547778]\n",
            " [1.         6.94443908 6.48470389]\n",
            " [1.         1.54596913 7.56770009]\n",
            " [1.         0.90407766 9.42092878]\n",
            " [1.         3.71788065 5.38166211]\n",
            " [1.         0.92562818 3.42126711]\n",
            " [1.         3.44310934 7.06634686]\n",
            " [1.         3.68499747 5.04996512]\n",
            " [1.         2.34361853 2.95870685]\n",
            " [1.         2.23818348 4.5348437 ]\n",
            " [1.         6.33309623 7.24030498]\n",
            " [1.         9.43820269 1.94381244]\n",
            " [1.         7.69192306 8.29822782]\n",
            " [1.         9.55717884 1.64467191]\n",
            " [1.         0.66547833 9.78263644]\n",
            " [1.         7.15470123 8.0147902 ]\n",
            " [1.         8.34775105 1.86081251]\n",
            " [1.         1.75344854 4.2192426 ]\n",
            " [1.         7.25343893 1.76251062]\n",
            " [1.         0.86040708 8.98818814]\n",
            " [1.         8.97821589 0.99343751]\n",
            " [1.         5.09102909 9.87313409]\n",
            " [1.         9.00037648 9.54932786]\n",
            " [1.         4.35755102 9.88798331]\n",
            " [1.         5.9409696  4.62063163]\n",
            " [1.         0.45567818 4.72229748]\n",
            " [1.         5.18546951 0.73263081]\n",
            " [1.         0.02227957 2.65842789]\n",
            " [1.         7.46436788 9.94517621]\n",
            " [1.         9.08162719 1.4373504 ]\n",
            " [1.         6.47790044 8.19818055]\n",
            " [1.         6.94970542 1.41129336]\n",
            " [1.         1.34192929 2.34287804]\n",
            " [1.         7.18081269 3.61076342]\n",
            " [1.         5.97136947 4.18830187]\n",
            " [1.         6.50581749 0.86310223]\n",
            " [1.         9.51792529 1.3011859 ]\n",
            " [1.         9.94784093 1.02645781]\n",
            " [1.         3.82819154 0.72319923]\n",
            " [1.         7.74378671 1.15442169]\n",
            " [1.         1.42377799 0.22859793]\n",
            " [1.         7.06536045 1.12132813]\n",
            " [1.         4.52961874 4.90551154]\n",
            " [1.         5.70052911 7.08354423]\n",
            " [1.         7.48425954 6.05939581]\n",
            " [1.         9.18129712 0.17147465]\n",
            " [1.         7.74652845 3.64301925]\n",
            " [1.         1.9222695  1.33142726]]\n",
            "y train:  [0. 0. 1. 1. 0. 0. 0. 0. 0. 0. 0. 1. 1. 1. 1. 1. 1. 1. 0. 1. 0. 1. 1. 1.\n",
            " 1. 1. 0. 0. 0. 1. 1. 1. 0. 0. 1. 1. 0. 0. 1. 0. 0. 0. 0. 1. 1. 1. 1. 1.\n",
            " 0.]\n",
            "X test:  [[1.         3.86304627 3.91320229]\n",
            " [1.         8.85164631 1.02791596]\n",
            " [1.         1.13248839 3.26491181]\n",
            " [1.         6.77931871 2.02818075]\n",
            " [1.         6.86140497 9.65530972]\n",
            " [1.         6.66046669 2.25395578]\n",
            " [1.         1.19638318 7.47574486]\n",
            " [1.         1.85911241 5.69186756]\n",
            " [1.         7.63063693 7.4053514 ]\n",
            " [1.         4.77857249 8.28287133]\n",
            " [1.         5.27238317 9.14961537]\n",
            " [1.         2.99191148 5.29921046]\n",
            " [1.         2.92268449 8.21759492]\n",
            " [1.         4.00661592 9.79212786]\n",
            " [1.         6.46089606 7.07629269]\n",
            " [1.         7.86385017 7.72638337]\n",
            " [1.         7.09227303 2.35745691]\n",
            " [1.         7.75053006 9.05717188]\n",
            " [1.         9.620465   2.09932754]\n",
            " [1.         4.53017137 3.761759  ]\n",
            " [1.         7.26008815 3.97413383]\n",
            " [1.         3.21484922 0.48505899]\n",
            " [1.         9.09596013 1.06791705]\n",
            " [1.         9.28214252 8.52933054]\n",
            " [1.         8.62543976 0.05892653]\n",
            " [1.         6.63560308 8.54280268]\n",
            " [1.         8.83477098 3.15220412]\n",
            " [1.         7.15095484 3.89942042]\n",
            " [1.         4.86601533 2.04267129]\n",
            " [1.         0.04502472 3.34600593]\n",
            " [1.         2.03070798 3.93726653]\n",
            " [1.         7.67235895 5.41639979]\n",
            " [1.         8.97656743 3.93515977]\n",
            " [1.         7.51730898 2.24892929]\n",
            " [1.         8.18297806 0.97498656]\n",
            " [1.         8.92270641 7.75421671]\n",
            " [1.         0.45238867 2.77469425]\n",
            " [1.         8.54042132 2.59037423]\n",
            " [1.         1.54910163 9.37513216]\n",
            " [1.         8.08197371 9.84220681]\n",
            " [1.         4.54033196 6.71387336]\n",
            " [1.         1.09147202 7.08437697]\n",
            " [1.         0.09805288 7.21451254]\n",
            " [1.         7.87439057 7.79109336]\n",
            " [1.         9.68310414 9.50704973]\n",
            " [1.         8.91006988 8.23292794]\n",
            " [1.         5.58106113 2.49612929]\n",
            " [1.         0.20005787 4.83405955]\n",
            " [1.         9.15051613 2.56233373]\n",
            " [1.         9.56014002 0.02494649]]\n",
            "y test:  [0. 1. 0. 0. 1. 0. 0. 0. 1. 1. 1. 0. 1. 1. 1. 1. 0. 1. 1. 0. 1. 0. 1. 1.\n",
            " 0. 1. 1. 1. 0. 0. 0. 1. 1. 0. 1. 1. 0. 1. 0. 1. 1. 0. 0. 1. 1. 1. 0. 0.\n",
            " 1. 0.]\n"
          ]
        }
      ],
      "source": [
        "from sklearn.model_selection import train_test_split\n",
        "\n",
        "x_train, x_test, y_train, y_test = train_test_split2(X,y,test_size=50)\n",
        "print(\"X train: \",x_train)\n",
        "print(\"y train: \",y_train)\n",
        "print(\"X test: \",x_test)\n",
        "print(\"y test: \",y_test)"
      ]
    },
    {
      "cell_type": "markdown",
      "metadata": {
        "id": "sxFGg4S7u7Ak"
      },
      "source": [
        "9. Viết hàm tính Sigmod"
      ]
    },
    {
      "cell_type": "code",
      "execution_count": 451,
      "metadata": {},
      "outputs": [],
      "source": [
        "import math\n",
        "def sigmoid(z):\n",
        "    rs = 1 / (1 + np.exp(-z))\n",
        "    return rs"
      ]
    },
    {
      "cell_type": "markdown",
      "metadata": {
        "id": "OoolbCltu-NV"
      },
      "source": [
        "10. Viết hàm tính hàm mất mát theo mô hình mồi quy logistic"
      ]
    },
    {
      "cell_type": "code",
      "execution_count": 452,
      "metadata": {},
      "outputs": [],
      "source": [
        "# def cost_function(x_train,y_train,w):\n",
        "#     n = len(x_train)  \n",
        "#     a = np.dot(x_train,w.T)\n",
        "#     rs = np.dot(y_train,np.log(sigmoid(a)).T) + np.dot((1 - y_train),np.log(1 - sigmoid(a)))\n",
        "#     rs = -rs/n \n",
        "#     return rs\n",
        "def cost_function(x, y, w):\n",
        "    n = len(x)\n",
        "    a = np.dot(x, w)\n",
        "    rs = np.dot(y, np.log(sigmoid(a))) + np.dot((1 - y), np.log(1 - sigmoid(a)))\n",
        "    rs = -rs / n\n",
        "    return rs"
      ]
    },
    {
      "cell_type": "code",
      "execution_count": 453,
      "metadata": {},
      "outputs": [],
      "source": [
        "# np.dot(xxx,x_train[2].T)"
      ]
    },
    {
      "cell_type": "markdown",
      "metadata": {
        "id": "P3t2fmvCvELV"
      },
      "source": [
        "11. Viết hàm huấn luyện mô mình."
      ]
    },
    {
      "cell_type": "code",
      "execution_count": 454,
      "metadata": {},
      "outputs": [],
      "source": [
        "# def train_model(x_train,y_train,w,epochs=1000,learning_rate=0.1):\n",
        "#     hist = []\n",
        "#     n = len(x_test)\n",
        "#     for i in range(epochs):\n",
        "#         w -= learning_rate*np.dot(x_train.T,(sigmoid(np.dot(x_train,w)) - y_train))\n",
        "#         hist.append(cost_function(x_train,y_train,w))\n",
        "#     return w, hist\n",
        "def train_model(x, y, w, epochs=1000, learning_rate=0.1):\n",
        "    history = []\n",
        "\n",
        "    for i in range(epochs):\n",
        "        gradient = np.dot(x.T, (sigmoid(np.dot(x, w)) - y)) / len(x)\n",
        "        w -= learning_rate * gradient\n",
        "        cost = cost_function(x, y, w)\n",
        "        history.append(cost)\n",
        "\n",
        "    return w, history"
      ]
    },
    {
      "cell_type": "markdown",
      "metadata": {
        "id": "nv7XTvqzvJZz"
      },
      "source": [
        "12. In tham số mô hình để kiểm tra."
      ]
    },
    {
      "cell_type": "code",
      "execution_count": 455,
      "metadata": {},
      "outputs": [],
      "source": [
        "w = np.random.randn((x_train.shape[1]))\n",
        "w, hist = train_model(x_train,y_train,w)"
      ]
    },
    {
      "cell_type": "code",
      "execution_count": 456,
      "metadata": {},
      "outputs": [
        {
          "name": "stdout",
          "output_type": "stream",
          "text": [
            "[-4.56509184  0.57606515  0.40814292]\n"
          ]
        }
      ],
      "source": [
        "print(w)"
      ]
    },
    {
      "cell_type": "markdown",
      "metadata": {
        "id": "42CkNckpvNY7"
      },
      "source": [
        "13. Vẽ biểu đồ biểu thị sự giảm của hàm mất mát"
      ]
    },
    {
      "cell_type": "code",
      "execution_count": 457,
      "metadata": {},
      "outputs": [
        {
          "data": {
            "image/png": "[encoded data removed]",
            "text/plain": [
              "<Figure size 640x480 with 1 Axes>"
            ]
          },
          "metadata": {},
          "output_type": "display_data"
        }
      ],
      "source": [
        "plt.figure()\n",
        "plt.scatter(x=range(len(hist)),y=hist)\n",
        "plt.show()"
      ]
    },
    {
      "cell_type": "markdown",
      "metadata": {
        "id": "fCUcPG-FvUNz"
      },
      "source": [
        "14. Viết hàm dự đoán."
      ]
    },
    {
      "cell_type": "code",
      "execution_count": 458,
      "metadata": {},
      "outputs": [],
      "source": [
        "def predict(w,x_test,y_test,theta):\n",
        "    pre_pred = sigmoid(np.dot(x_test,w.T))\n",
        "    pred = np.where(pre_pred>=theta,1,0)\n",
        "    count = 0\n",
        "    for i in range(len(pred)):\n",
        "        if pred[i] == y_test[i]:\n",
        "            count += 1\n",
        "\n",
        "    return (count/len(y_test) * 100)"
      ]
    },
    {
      "cell_type": "markdown",
      "metadata": {
        "id": "5v6-ddyNlET4"
      },
      "source": [
        "15. Viết hàm chuyển đổi kết quả dự đoán về 0 và 1"
      ]
    },
    {
      "cell_type": "code",
      "execution_count": 459,
      "metadata": {},
      "outputs": [],
      "source": [
        "result = predict(w,x_test,y_test,theta=0.5)"
      ]
    },
    {
      "cell_type": "markdown",
      "metadata": {
        "id": "2CaOnMaxvXfi"
      },
      "source": [
        "16. Cho biết tỉ lệ dự đoán từ mô hình do bạn xây dựng nên"
      ]
    },
    {
      "cell_type": "code",
      "execution_count": 460,
      "metadata": {},
      "outputs": [
        {
          "name": "stdout",
          "output_type": "stream",
          "text": [
            "86.0\n"
          ]
        }
      ],
      "source": [
        "print(result)"
      ]
    },
    {
      "cell_type": "markdown",
      "metadata": {
        "id": "R4DIl9LBvdZT"
      },
      "source": [
        "17. Sử dụng mô hình có từ các thư viện để dự đoán so sánh kết quả.\n",
        "\n",
        "```\n",
        "# Định dạng của đoạn này là mã\n",
        "```\n",
        "\n"
      ]
    },
    {
      "cell_type": "code",
      "execution_count": 461,
      "metadata": {},
      "outputs": [],
      "source": [
        "import numpy as np\n",
        "from sklearn.linear_model import LogisticRegression\n",
        "from sklearn.metrics import accuracy_score, classification_report"
      ]
    },
    {
      "cell_type": "code",
      "execution_count": 462,
      "metadata": {},
      "outputs": [
        {
          "data": {
            "text/html": [
              "<style>#sk-container-id-16 {color: black;background-color: white;}#sk-container-id-16 pre{padding: 0;}#sk-container-id-16 div.sk-toggleable {background-color: white;}#sk-container-id-16 label.sk-toggleable__label {cursor: pointer;display: block;width: 100%;margin-bottom: 0;padding: 0.3em;box-sizing: border-box;text-align: center;}#sk-container-id-16 label.sk-toggleable__label-arrow:before {content: \"▸\";float: left;margin-right: 0.25em;color: #696969;}#sk-container-id-16 label.sk-toggleable__label-arrow:hover:before {color: black;}#sk-container-id-16 div.sk-estimator:hover label.sk-toggleable__label-arrow:before {color: black;}#sk-container-id-16 div.sk-toggleable__content {max-height: 0;max-width: 0;overflow: hidden;text-align: left;background-color: #f0f8ff;}#sk-container-id-16 div.sk-toggleable__content pre {margin: 0.2em;color: black;border-radius: 0.25em;background-color: #f0f8ff;}#sk-container-id-16 input.sk-toggleable__control:checked~div.sk-toggleable__content {max-height: 200px;max-width: 100%;overflow: auto;}#sk-container-id-16 input.sk-toggleable__control:checked~label.sk-toggleable__label-arrow:before {content: \"▾\";}#sk-container-id-16 div.sk-estimator input.sk-toggleable__control:checked~label.sk-toggleable__label {background-color: #d4ebff;}#sk-container-id-16 div.sk-label input.sk-toggleable__control:checked~label.sk-toggleable__label {background-color: #d4ebff;}#sk-container-id-16 input.sk-hidden--visually {border: 0;clip: rect(1px 1px 1px 1px);clip: rect(1px, 1px, 1px, 1px);height: 1px;margin: -1px;overflow: hidden;padding: 0;position: absolute;width: 1px;}#sk-container-id-16 div.sk-estimator {font-family: monospace;background-color: #f0f8ff;border: 1px dotted black;border-radius: 0.25em;box-sizing: border-box;margin-bottom: 0.5em;}#sk-container-id-16 div.sk-estimator:hover {background-color: #d4ebff;}#sk-container-id-16 div.sk-parallel-item::after {content: \"\";width: 100%;border-bottom: 1px solid gray;flex-grow: 1;}#sk-container-id-16 div.sk-label:hover label.sk-toggleable__label {background-color: #d4ebff;}#sk-container-id-16 div.sk-serial::before {content: \"\";position: absolute;border-left: 1px solid gray;box-sizing: border-box;top: 0;bottom: 0;left: 50%;z-index: 0;}#sk-container-id-16 div.sk-serial {display: flex;flex-direction: column;align-items: center;background-color: white;padding-right: 0.2em;padding-left: 0.2em;position: relative;}#sk-container-id-16 div.sk-item {position: relative;z-index: 1;}#sk-container-id-16 div.sk-parallel {display: flex;align-items: stretch;justify-content: center;background-color: white;position: relative;}#sk-container-id-16 div.sk-item::before, #sk-container-id-16 div.sk-parallel-item::before {content: \"\";position: absolute;border-left: 1px solid gray;box-sizing: border-box;top: 0;bottom: 0;left: 50%;z-index: -1;}#sk-container-id-16 div.sk-parallel-item {display: flex;flex-direction: column;z-index: 1;position: relative;background-color: white;}#sk-container-id-16 div.sk-parallel-item:first-child::after {align-self: flex-end;width: 50%;}#sk-container-id-16 div.sk-parallel-item:last-child::after {align-self: flex-start;width: 50%;}#sk-container-id-16 div.sk-parallel-item:only-child::after {width: 0;}#sk-container-id-16 div.sk-dashed-wrapped {border: 1px dashed gray;margin: 0 0.4em 0.5em 0.4em;box-sizing: border-box;padding-bottom: 0.4em;background-color: white;}#sk-container-id-16 div.sk-label label {font-family: monospace;font-weight: bold;display: inline-block;line-height: 1.2em;}#sk-container-id-16 div.sk-label-container {text-align: center;}#sk-container-id-16 div.sk-container {/* jupyter's `normalize.less` sets `[hidden] { display: none; }` but bootstrap.min.css set `[hidden] { display: none !important; }` so we also need the `!important` here to be able to override the default hidden behavior on the sphinx rendered scikit-learn.org. See: https://github.com/scikit-learn/scikit-learn/issues/21755 */display: inline-block !important;position: relative;}#sk-container-id-16 div.sk-text-repr-fallback {display: none;}</style><div id=\"sk-container-id-16\" class=\"sk-top-container\"><div class=\"sk-text-repr-fallback\"><pre>LogisticRegression()</pre><b>In a Jupyter environment, please rerun this cell to show the HTML representation or trust the notebook. <br />On GitHub, the HTML representation is unable to render, please try loading this page with nbviewer.org.</b></div><div class=\"sk-container\" hidden><div class=\"sk-item\"><div class=\"sk-estimator sk-toggleable\"><input class=\"sk-toggleable__control sk-hidden--visually\" id=\"sk-estimator-id-16\" type=\"checkbox\" checked><label for=\"sk-estimator-id-16\" class=\"sk-toggleable__label sk-toggleable__label-arrow\">LogisticRegression</label><div class=\"sk-toggleable__content\"><pre>LogisticRegression()</pre></div></div></div></div></div>"
            ],
            "text/plain": [
              "LogisticRegression()"
            ]
          },
          "execution_count": 462,
          "metadata": {},
          "output_type": "execute_result"
        }
      ],
      "source": [
        "# Tạo mô hình Logistic Regression\n",
        "model = LogisticRegression()\n",
        "\n",
        "# Huấn luyện mô hình trên tập huấn luyện\n",
        "model.fit(x_train, y_train)\n"
      ]
    },
    {
      "cell_type": "code",
      "execution_count": 463,
      "metadata": {},
      "outputs": [
        {
          "name": "stdout",
          "output_type": "stream",
          "text": [
            "Tham so:  [[-7.92816384e-08  1.04167556e+00  8.28589088e-01]]\n",
            "Accuracy: 92.0\n",
            "Classification Report:\n",
            "               precision    recall  f1-score   support\n",
            "\n",
            "         0.0       1.00      0.82      0.90        22\n",
            "         1.0       0.88      1.00      0.93        28\n",
            "\n",
            "    accuracy                           0.92        50\n",
            "   macro avg       0.94      0.91      0.92        50\n",
            "weighted avg       0.93      0.92      0.92        50\n",
            "\n"
          ]
        }
      ],
      "source": [
        "# Dự đoán trên tập kiểm tra\n",
        "y_pred = model.predict(x_test)\n",
        "# Tham so mo hinh\n",
        "print(\"Tham so: \",model.coef_)\n",
        "# Đánh giá hiệu suất\n",
        "accuracy = accuracy_score(y_test, y_pred)\n",
        "print(\"Accuracy:\", accuracy*100)\n",
        "\n",
        "# In báo cáo phân loại\n",
        "classification_rep = classification_report(y_test, y_pred)\n",
        "print(\"Classification Report:\\n\", classification_rep)\n"
      ]
    },
    {
      "cell_type": "markdown",
      "metadata": {
        "id": "cIIINfgTlVwH"
      },
      "source": [
        "18. Thay đổi giá trị learning_rate so sánh tỉ lệ dự đoán"
      ]
    },
    {
      "cell_type": "code",
      "execution_count": 464,
      "metadata": {},
      "outputs": [
        {
          "name": "stdout",
          "output_type": "stream",
          "text": [
            "[-4.58905865  0.57852672  0.41033248]\n"
          ]
        },
        {
          "data": {
            "text/plain": [
              "86.0"
            ]
          },
          "execution_count": 464,
          "metadata": {},
          "output_type": "execute_result"
        }
      ],
      "source": [
        "w, hist = train_model(x_train,y_train,w,learning_rate=0.001)\n",
        "print(w)\n",
        "predict(w=w,x_test=x_test,y_test=y_test,theta=0.5)"
      ]
    },
    {
      "cell_type": "markdown",
      "metadata": {
        "id": "STsc6q85lkuX"
      },
      "source": [
        "19. In ra ma trận Confution matrix để xem số lượng điểm dự đoán đúng cho từng lớp"
      ]
    },
    {
      "cell_type": "code",
      "execution_count": 465,
      "metadata": {},
      "outputs": [],
      "source": [
        "def confution_matrix(x_test,y_test):\n",
        "    pre_pred = sigmoid(np.dot(x_test,w.T))\n",
        "    pred = np.where(pre_pred>=0.5,1,0)\n",
        "    t1,t2,t3,t4 = 0,0,0,0\n",
        "    for i in range(len(pred)):\n",
        "        if pred[i] == y_test[i] and pred[i] == 1:\n",
        "            t1 += 1\n",
        "        if pred[i] == y_test[i] and pred[i] == 0:\n",
        "            t2 += 1\n",
        "        if pred[i] != y_test[i] and pred[i] == 0:\n",
        "            t3 += 1\n",
        "        if pred[i] != y_test[i] and pred[i] == 1:\n",
        "            t4 += 1\n",
        "            \n",
        "    return t1,t2,t3,t4"
      ]
    },
    {
      "cell_type": "code",
      "execution_count": 466,
      "metadata": {},
      "outputs": [
        {
          "name": "stdout",
          "output_type": "stream",
          "text": [
            "28 | 7\n",
            "0 | 15\n"
          ]
        }
      ],
      "source": [
        "t1,t2,t3,t4 = confution_matrix(x_test=x_test,y_test=y_test)\n",
        "print(t1,\"|\",t4)\n",
        "print(t3,\"|\",t2)"
      ]
    },
    {
      "cell_type": "markdown",
      "metadata": {
        "id": "TkfMlpGXvkUk"
      },
      "source": [
        "20. Sử dụng mô hình trên cho bài toán dự đoán nhị phân bất kỳ như dự đoán bệnh ung thư, bệnh trầm cảm, khách hàng gởi tiền vào ngân hàng. SV tự tìm dữ liệu trên mạng"
      ]
    },
    {
      "cell_type": "markdown",
      "metadata": {
        "id": "v-3mdcjhteci"
      },
      "source": []
    }
  ],
  "metadata": {
    "colab": {
      "provenance": []
    },
    "kernelspec": {
      "display_name": "Python 3",
      "name": "python3"
    },
    "language_info": {
      "codemirror_mode": {
        "name": "ipython",
        "version": 3
      },
      "file_extension": ".py",
      "mimetype": "text/x-python",
      "name": "python",
      "nbconvert_exporter": "python",
      "pygments_lexer": "ipython3",
      "version": "3.10.12"
    }
  },
  "nbformat": 4,
  "nbformat_minor": 0
}
