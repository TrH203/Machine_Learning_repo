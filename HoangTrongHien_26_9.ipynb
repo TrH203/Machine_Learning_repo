{
 "cells": [
  {
   "cell_type": "code",
   "execution_count": 289,
   "metadata": {},
   "outputs": [],
   "source": [
    "import pandas as pd\n",
    "import numpy as np\n",
    "from sklearn.model_selection import train_test_split"
   ]
  },
  {
   "cell_type": "markdown",
   "metadata": {},
   "source": [
    "Hàm đọc file từ s (địa chỉ file)"
   ]
  },
  {
   "cell_type": "code",
   "execution_count": 290,
   "metadata": {},
   "outputs": [],
   "source": [
    "def HoangTrongHien_docfile(s):\n",
    "    data = pd.read_csv(s).values\n",
    "    return data"
   ]
  },
  {
   "cell_type": "code",
   "execution_count": 291,
   "metadata": {},
   "outputs": [
    {
     "data": {
      "text/plain": [
       "(array([[8.62543976, 0.05892653],\n",
       "        [3.82819154, 0.72319923],\n",
       "        [7.15095484, 3.89942042],\n",
       "        [6.47790044, 8.19818055],\n",
       "        [1.9222695 , 1.33142726],\n",
       "        [8.97821589, 0.99343751],\n",
       "        [6.63560308, 8.54280268],\n",
       "        [7.67235895, 5.41639979],\n",
       "        [4.86601533, 2.04267129],\n",
       "        [6.86140497, 9.65530972],\n",
       "        [8.54042132, 2.59037423],\n",
       "        [3.71788065, 5.38166211],\n",
       "        [9.18129712, 0.17147465],\n",
       "        [9.56014002, 0.02494649],\n",
       "        [5.97136947, 4.18830187],\n",
       "        [9.43820269, 1.94381244],\n",
       "        [4.35755102, 9.88798331],\n",
       "        [4.54033196, 6.71387336],\n",
       "        [1.54910163, 9.37513216],\n",
       "        [8.08197371, 9.84220681],\n",
       "        [9.620465  , 2.09932754],\n",
       "        [8.83477098, 3.15220412],\n",
       "        [1.75344854, 4.2192426 ],\n",
       "        [1.04321284, 2.60976512],\n",
       "        [1.19638318, 7.47574486],\n",
       "        [8.91006988, 8.23292794],\n",
       "        [4.52961874, 4.90551154],\n",
       "        [1.85911241, 5.69186756],\n",
       "        [9.55717884, 1.64467191],\n",
       "        [7.15470123, 8.0147902 ],\n",
       "        [2.34361853, 2.95870685],\n",
       "        [2.92268449, 8.21759492],\n",
       "        [6.33309623, 7.24030498],\n",
       "        [0.92562818, 3.42126711],\n",
       "        [7.87439057, 7.79109336],\n",
       "        [8.34775105, 1.86081251],\n",
       "        [5.58106113, 2.49612929],\n",
       "        [5.09102909, 9.87313409],\n",
       "        [4.53017137, 3.761759  ],\n",
       "        [1.42377799, 0.22859793],\n",
       "        [9.09596013, 1.06791705],\n",
       "        [4.00661592, 9.79212786],\n",
       "        [8.97656743, 3.93515977],\n",
       "        [0.09805288, 7.21451254],\n",
       "        [0.45238867, 2.77469425],\n",
       "        [3.86304627, 3.91320229],\n",
       "        [7.86385017, 7.72638337],\n",
       "        [8.92270641, 7.75421671],\n",
       "        [7.46436788, 9.94517621],\n",
       "        [1.34192929, 2.34287804],\n",
       "        [5.9409696 , 4.62063163],\n",
       "        [0.90407766, 9.42092878],\n",
       "        [7.75053006, 9.05717188],\n",
       "        [9.51792529, 1.3011859 ],\n",
       "        [7.74378671, 1.15442169],\n",
       "        [7.69192306, 8.29822782],\n",
       "        [7.09227303, 2.35745691],\n",
       "        [6.94443908, 6.48470389],\n",
       "        [0.04502472, 3.34600593],\n",
       "        [1.54596913, 7.56770009],\n",
       "        [5.27238317, 9.14961537],\n",
       "        [0.86040708, 8.98818814],\n",
       "        [7.25343893, 1.76251062],\n",
       "        [7.51730898, 2.24892929],\n",
       "        [9.08162719, 1.4373504 ],\n",
       "        [0.45567818, 4.72229748],\n",
       "        [6.94970542, 1.41129336],\n",
       "        [9.28214252, 8.52933054],\n",
       "        [7.18081269, 3.61076342],\n",
       "        [1.13248839, 3.26491181],\n",
       "        [7.74652845, 3.64301925],\n",
       "        [7.06536045, 1.12132813],\n",
       "        [6.50581749, 0.86310223],\n",
       "        [5.70052911, 7.08354423],\n",
       "        [6.66046669, 2.25395578],\n",
       "        [1.09147202, 7.08437697],\n",
       "        [4.90308762, 6.02547778],\n",
       "        [3.44310934, 7.06634686],\n",
       "        [8.18297806, 0.97498656],\n",
       "        [9.00037648, 9.54932786],\n",
       "        [9.68310414, 9.50704973],\n",
       "        [2.99191148, 5.29921046],\n",
       "        [2.23818348, 4.5348437 ],\n",
       "        [0.66547833, 9.78263644],\n",
       "        [6.77931871, 2.02818075],\n",
       "        [9.94784093, 1.02645781],\n",
       "        [3.21484922, 0.48505899],\n",
       "        [8.85164631, 1.02791596],\n",
       "        [0.20005787, 4.83405955],\n",
       "        [5.18546951, 0.73263081],\n",
       "        [7.26008815, 3.97413383],\n",
       "        [9.15051613, 2.56233373],\n",
       "        [6.46089606, 7.07629269],\n",
       "        [4.77857249, 8.28287133],\n",
       "        [0.02227957, 2.65842789],\n",
       "        [7.63063693, 7.4053514 ],\n",
       "        [3.68499747, 5.04996512],\n",
       "        [7.48425954, 6.05939581],\n",
       "        [2.03070798, 3.93726653]]),\n",
       " array([0., 0., 1., 1., 0., 1., 1., 1., 0., 1., 1., 0., 1., 0., 1., 1., 1.,\n",
       "        1., 0., 1., 1., 1., 0., 0., 0., 1., 1., 0., 1., 1., 0., 1., 1., 0.,\n",
       "        1., 1., 0., 1., 0., 0., 1., 1., 1., 0., 0., 0., 1., 1., 1., 0., 1.,\n",
       "        0., 1., 0., 0., 1., 0., 1., 0., 1., 1., 0., 1., 0., 1., 0., 0., 1.,\n",
       "        1., 0., 1., 0., 0., 1., 0., 0., 0., 0., 1., 1., 1., 0., 0., 1., 0.,\n",
       "        1., 0., 1., 0., 0., 1., 1., 1., 1., 0., 1., 0., 1., 0.]))"
      ]
     },
     "execution_count": 291,
     "metadata": {},
     "output_type": "execute_result"
    }
   ],
   "source": [
    "data = HoangTrongHien_docfile(s=\"data_classification.csv\")\n",
    "X = data[:,:-1]\n",
    "y = data[:,-1]\n",
    "X, y"
   ]
  },
  {
   "cell_type": "markdown",
   "metadata": {},
   "source": [
    "Hàm tách dữ liệu với train,test là dữ liệu kèm nhãn"
   ]
  },
  {
   "cell_type": "code",
   "execution_count": 292,
   "metadata": {},
   "outputs": [],
   "source": [
    "def HoangTrongHien_tachdulieu(X,y):\n",
    "    x_train, x_test, y_train, y_test = train_test_split(X,y,test_size=0.2)\n",
    "    train = np.hstack((x_train,y_train.reshape(len(x_train),1)))\n",
    "    test = np.hstack((x_test,y_test.reshape(len(x_test),1)))\n",
    "    return train, test"
   ]
  },
  {
   "cell_type": "code",
   "execution_count": 293,
   "metadata": {},
   "outputs": [
    {
     "data": {
      "text/plain": [
       "((79, 3), (20, 3))"
      ]
     },
     "execution_count": 293,
     "metadata": {},
     "output_type": "execute_result"
    }
   ],
   "source": [
    "data_train, data_test = HoangTrongHien_tachdulieu(X= X,y=y)\n",
    "data_train.shape, data_test.shape"
   ]
  },
  {
   "cell_type": "markdown",
   "metadata": {},
   "source": [
    "Thêm cột 0 vào cuối tập train -> data_train"
   ]
  },
  {
   "cell_type": "code",
   "execution_count": 294,
   "metadata": {},
   "outputs": [
    {
     "data": {
      "text/plain": [
       "array([[8.18297806, 0.97498656, 1.        , 0.        ],\n",
       "       [7.06536045, 1.12132813, 0.        , 0.        ],\n",
       "       [9.43820269, 1.94381244, 1.        , 0.        ],\n",
       "       [7.25343893, 1.76251062, 1.        , 0.        ],\n",
       "       [5.09102909, 9.87313409, 1.        , 0.        ],\n",
       "       [2.92268449, 8.21759492, 1.        , 0.        ],\n",
       "       [8.85164631, 1.02791596, 1.        , 0.        ],\n",
       "       [9.68310414, 9.50704973, 1.        , 0.        ],\n",
       "       [3.86304627, 3.91320229, 0.        , 0.        ],\n",
       "       [7.09227303, 2.35745691, 0.        , 0.        ],\n",
       "       [5.97136947, 4.18830187, 1.        , 0.        ],\n",
       "       [0.92562818, 3.42126711, 0.        , 0.        ],\n",
       "       [5.70052911, 7.08354423, 1.        , 0.        ],\n",
       "       [0.66547833, 9.78263644, 1.        , 0.        ],\n",
       "       [6.94443908, 6.48470389, 1.        , 0.        ],\n",
       "       [9.94784093, 1.02645781, 1.        , 0.        ],\n",
       "       [9.55717884, 1.64467191, 1.        , 0.        ],\n",
       "       [8.83477098, 3.15220412, 1.        , 0.        ],\n",
       "       [0.02227957, 2.65842789, 0.        , 0.        ],\n",
       "       [8.91006988, 8.23292794, 1.        , 0.        ],\n",
       "       [4.77857249, 8.28287133, 1.        , 0.        ],\n",
       "       [6.46089606, 7.07629269, 1.        , 0.        ],\n",
       "       [6.47790044, 8.19818055, 1.        , 0.        ],\n",
       "       [0.09805288, 7.21451254, 0.        , 0.        ],\n",
       "       [4.53017137, 3.761759  , 0.        , 0.        ],\n",
       "       [5.27238317, 9.14961537, 1.        , 0.        ],\n",
       "       [1.75344854, 4.2192426 , 0.        , 0.        ],\n",
       "       [9.15051613, 2.56233373, 1.        , 0.        ],\n",
       "       [3.68499747, 5.04996512, 0.        , 0.        ],\n",
       "       [1.04321284, 2.60976512, 0.        , 0.        ],\n",
       "       [4.86601533, 2.04267129, 0.        , 0.        ],\n",
       "       [7.15470123, 8.0147902 , 1.        , 0.        ],\n",
       "       [1.54596913, 7.56770009, 1.        , 0.        ],\n",
       "       [6.63560308, 8.54280268, 1.        , 0.        ],\n",
       "       [7.51730898, 2.24892929, 0.        , 0.        ],\n",
       "       [4.52961874, 4.90551154, 1.        , 0.        ],\n",
       "       [8.97821589, 0.99343751, 1.        , 0.        ],\n",
       "       [8.62543976, 0.05892653, 0.        , 0.        ],\n",
       "       [7.48425954, 6.05939581, 1.        , 0.        ],\n",
       "       [7.26008815, 3.97413383, 1.        , 0.        ],\n",
       "       [6.66046669, 2.25395578, 0.        , 0.        ],\n",
       "       [7.46436788, 9.94517621, 1.        , 0.        ],\n",
       "       [1.13248839, 3.26491181, 0.        , 0.        ],\n",
       "       [0.90407766, 9.42092878, 0.        , 0.        ],\n",
       "       [5.18546951, 0.73263081, 0.        , 0.        ],\n",
       "       [6.86140497, 9.65530972, 1.        , 0.        ],\n",
       "       [7.69192306, 8.29822782, 1.        , 0.        ],\n",
       "       [4.35755102, 9.88798331, 1.        , 0.        ],\n",
       "       [0.45238867, 2.77469425, 0.        , 0.        ],\n",
       "       [2.23818348, 4.5348437 , 0.        , 0.        ],\n",
       "       [0.45567818, 4.72229748, 0.        , 0.        ],\n",
       "       [9.00037648, 9.54932786, 1.        , 0.        ],\n",
       "       [7.15095484, 3.89942042, 1.        , 0.        ],\n",
       "       [0.86040708, 8.98818814, 0.        , 0.        ],\n",
       "       [7.67235895, 5.41639979, 1.        , 0.        ],\n",
       "       [7.74652845, 3.64301925, 1.        , 0.        ],\n",
       "       [2.99191148, 5.29921046, 0.        , 0.        ],\n",
       "       [5.9409696 , 4.62063163, 1.        , 0.        ],\n",
       "       [1.09147202, 7.08437697, 0.        , 0.        ],\n",
       "       [3.44310934, 7.06634686, 0.        , 0.        ],\n",
       "       [4.00661592, 9.79212786, 1.        , 0.        ],\n",
       "       [8.08197371, 9.84220681, 1.        , 0.        ],\n",
       "       [7.18081269, 3.61076342, 1.        , 0.        ],\n",
       "       [9.51792529, 1.3011859 , 0.        , 0.        ],\n",
       "       [8.34775105, 1.86081251, 1.        , 0.        ],\n",
       "       [4.90308762, 6.02547778, 0.        , 0.        ],\n",
       "       [9.18129712, 0.17147465, 1.        , 0.        ],\n",
       "       [6.50581749, 0.86310223, 0.        , 0.        ],\n",
       "       [7.87439057, 7.79109336, 1.        , 0.        ],\n",
       "       [3.71788065, 5.38166211, 0.        , 0.        ],\n",
       "       [9.28214252, 8.52933054, 1.        , 0.        ],\n",
       "       [1.19638318, 7.47574486, 0.        , 0.        ],\n",
       "       [1.54910163, 9.37513216, 0.        , 0.        ],\n",
       "       [5.58106113, 2.49612929, 0.        , 0.        ],\n",
       "       [6.77931871, 2.02818075, 0.        , 0.        ],\n",
       "       [3.82819154, 0.72319923, 0.        , 0.        ],\n",
       "       [1.34192929, 2.34287804, 0.        , 0.        ],\n",
       "       [4.54033196, 6.71387336, 1.        , 0.        ],\n",
       "       [2.03070798, 3.93726653, 0.        , 0.        ]])"
      ]
     },
     "execution_count": 294,
     "metadata": {},
     "output_type": "execute_result"
    }
   ],
   "source": [
    "data_train = np.hstack((data_train,np.zeros((data_train.shape[0],1))))\n",
    "data_train"
   ]
  },
  {
   "cell_type": "markdown",
   "metadata": {},
   "source": [
    "Hàm tính khoảng cách theo công thức `a**2 - 2a*b + b**2`"
   ]
  },
  {
   "cell_type": "code",
   "execution_count": 295,
   "metadata": {},
   "outputs": [],
   "source": [
    "def dist_cal(data,test):\n",
    "        # print(data.shape)\n",
    "        # print(test.shape)\n",
    "        M_new = np.sum(data*data, 1) \n",
    "        P_new = np.sum(test*test, 1) \n",
    "        return np.sqrt(P_new.reshape(-1,1) + M_new.reshape(1,-1) - 2*test.dot(data.T))"
   ]
  },
  {
   "cell_type": "markdown",
   "metadata": {},
   "source": [
    "`kc` với mỗi dòng lần lượt là khoảng các từ điểm test tới toàn bộ khoảng cách của dữ liệu train"
   ]
  },
  {
   "cell_type": "code",
   "execution_count": 296,
   "metadata": {},
   "outputs": [
    {
     "data": {
      "text/plain": [
       "(20, 79)"
      ]
     },
     "execution_count": 296,
     "metadata": {},
     "output_type": "execute_result"
    }
   ],
   "source": [
    "kc = dist_cal(data_train[:,:-2], data_test[:,:-1])\n",
    "kc.shape"
   ]
  },
  {
   "cell_type": "markdown",
   "metadata": {},
   "source": [
    "Hàm `HoangTrongHien_count` tính số lần nhãn xuất hiện nhiều nhất trong tập k "
   ]
  },
  {
   "cell_type": "code",
   "execution_count": 297,
   "metadata": {},
   "outputs": [],
   "source": [
    "def HoangTrongHien_count(arr):\n",
    "    a,b = np.unique(arr, return_counts=True)\n",
    "    return a[np.argmax(b)]"
   ]
  },
  {
   "cell_type": "markdown",
   "metadata": {},
   "source": [
    "`rs` là kết quả sau khi lọc ra "
   ]
  },
  {
   "cell_type": "code",
   "execution_count": 298,
   "metadata": {},
   "outputs": [
    {
     "data": {
      "text/plain": [
       "(array([1., 0., 1., 0., 0., 1., 1., 0., 1., 0., 1., 0., 1., 1., 0., 0., 1.,\n",
       "        1., 1., 1.]),\n",
       " array([1., 0., 1., 0., 0., 1., 1., 0., 1., 0., 1., 0., 1., 1., 0., 0., 1.,\n",
       "        0., 0., 1.]))"
      ]
     },
     "execution_count": 298,
     "metadata": {},
     "output_type": "execute_result"
    }
   ],
   "source": [
    "list_kc = []\n",
    "rs = []\n",
    "for i in kc:\n",
    "    d = np.copy(data_train)\n",
    "    d[:,-1] = i\n",
    "    d = d[d[:,-1].argsort()]\n",
    "    rs.append(HoangTrongHien_count(d[:,-2][:5]))\n",
    "    \n",
    "rs = np.array(rs)\n",
    "rs,data_test[:,-1]\n"
   ]
  },
  {
   "cell_type": "markdown",
   "metadata": {},
   "source": [
    "Hàm đánh giá độ chính xác"
   ]
  },
  {
   "cell_type": "code",
   "execution_count": 299,
   "metadata": {},
   "outputs": [],
   "source": [
    "def HoangTrongHien_danhgia(y_pred, y_true):\n",
    "    x = (y_pred == y_true)\n",
    "    return np.sum(x)/len(x) * 100"
   ]
  },
  {
   "cell_type": "markdown",
   "metadata": {},
   "source": [
    "# Kết quả"
   ]
  },
  {
   "cell_type": "code",
   "execution_count": 300,
   "metadata": {},
   "outputs": [
    {
     "name": "stdout",
     "output_type": "stream",
     "text": [
      "90.0 %\n"
     ]
    }
   ],
   "source": [
    "print(HoangTrongHien_danhgia(rs,data_test[:,-1]),\"%\")"
   ]
  },
  {
   "cell_type": "markdown",
   "metadata": {},
   "source": [
    "Hàm đánh giá"
   ]
  },
  {
   "cell_type": "code",
   "execution_count": 301,
   "metadata": {},
   "outputs": [],
   "source": [
    "def HoangTrongHien_HienKetQua(y_pred, y_true):\n",
    "    c = np.unique(y_pred)\n",
    "    m = np.zeros((len(c), len(c)))\n",
    "    for i in range(len(c)):\n",
    "        for j in range(len(c)):\n",
    "            m[i,j] = np.sum((y_pred==c[i]) & (y_true==c[j]))\n",
    "\n",
    "    return m\n"
   ]
  },
  {
   "cell_type": "code",
   "execution_count": 302,
   "metadata": {},
   "outputs": [],
   "source": [
    "m = HoangTrongHien_HienKetQua(rs,data_test[:,-1])"
   ]
  },
  {
   "cell_type": "markdown",
   "metadata": {},
   "source": [
    "Ma trận đánh giá"
   ]
  },
  {
   "cell_type": "code",
   "execution_count": 303,
   "metadata": {},
   "outputs": [
    {
     "data": {
      "text/html": [
       "<div>\n",
       "<style scoped>\n",
       "    .dataframe tbody tr th:only-of-type {\n",
       "        vertical-align: middle;\n",
       "    }\n",
       "\n",
       "    .dataframe tbody tr th {\n",
       "        vertical-align: top;\n",
       "    }\n",
       "\n",
       "    .dataframe thead th {\n",
       "        text-align: right;\n",
       "    }\n",
       "</style>\n",
       "<table border=\"1\" class=\"dataframe\">\n",
       "  <thead>\n",
       "    <tr style=\"text-align: right;\">\n",
       "      <th></th>\n",
       "      <th>Lớp</th>\n",
       "      <th>0</th>\n",
       "      <th>1</th>\n",
       "    </tr>\n",
       "  </thead>\n",
       "  <tbody>\n",
       "    <tr>\n",
       "      <th>0</th>\n",
       "      <td>0.0</td>\n",
       "      <td>8.0</td>\n",
       "      <td>0.0</td>\n",
       "    </tr>\n",
       "    <tr>\n",
       "      <th>1</th>\n",
       "      <td>1.0</td>\n",
       "      <td>2.0</td>\n",
       "      <td>10.0</td>\n",
       "    </tr>\n",
       "  </tbody>\n",
       "</table>\n",
       "</div>"
      ],
      "text/plain": [
       "   Lớp    0     1\n",
       "0  0.0  8.0   0.0\n",
       "1  1.0  2.0  10.0"
      ]
     },
     "execution_count": 303,
     "metadata": {},
     "output_type": "execute_result"
    }
   ],
   "source": [
    "confusion = pd.DataFrame(data ={\"Lớp\": np.unique(rs),\n",
    "                                \"0\": m[:,0],\n",
    "                                \"1\": m[:,1]})\n",
    "confusion"
   ]
  },
  {
   "cell_type": "code",
   "execution_count": null,
   "metadata": {},
   "outputs": [],
   "source": []
  }
 ],
 "metadata": {
  "kernelspec": {
   "display_name": "Python 3",
   "language": "python",
   "name": "python3"
  },
  "language_info": {
   "codemirror_mode": {
    "name": "ipython",
    "version": 3
   },
   "file_extension": ".py",
   "mimetype": "text/x-python",
   "name": "python",
   "nbconvert_exporter": "python",
   "pygments_lexer": "ipython3",
   "version": "3.10.12"
  },
  "orig_nbformat": 4
 },
 "nbformat": 4,
 "nbformat_minor": 2
}
